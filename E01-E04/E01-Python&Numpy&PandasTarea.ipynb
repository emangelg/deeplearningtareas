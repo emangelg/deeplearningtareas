{
 "cells": [
  {
   "cell_type": "markdown",
   "metadata": {},
   "source": [
    "# Exercise 01.1\n",
    "\n",
    "Create a function that receives two inputs a and b, and returns the product of the a decimal of pi and the b decimal of pi.\n",
    "\n",
    "```\n",
    "i.e, \n",
    "pi = 3.14159\n",
    "if a = 2 and b = 4\n",
    "result = 4 * 5\n",
    "result = 20\n",
    "```\n",
    "\n",
    "Caveats:\n",
    "- a and b are between 1 and 15\n",
    "- decimals positions 1 and 2 are 1 and 4, respectively. (remember that python start indexing in 0)"
   ]
  },
  {
   "cell_type": "code",
   "execution_count": 101,
   "metadata": {},
   "outputs": [],
   "source": [
    "from math import pi\n",
    "def mult_dec_pi(a, b):\n",
    "    pistr=list(str(pi))\n",
    "    if a>15:\n",
    "        print(\"Error\")\n",
    "    elif b>15:\n",
    "        print(\"Error\")\n",
    "    else:\n",
    "        x=pistr[a+1]\n",
    "        x=int(x)\n",
    "        y=pistr[b+1]\n",
    "        y=int(y)\n",
    "        result = print('El resultado esperado es')\n",
    "        return x*y"
   ]
  },
  {
   "cell_type": "code",
   "execution_count": 102,
   "metadata": {},
   "outputs": [
    {
     "name": "stdout",
     "output_type": "stream",
     "text": [
      "El resultado esperado es\n"
     ]
    },
    {
     "data": {
      "text/plain": [
       "9"
      ]
     },
     "execution_count": 102,
     "metadata": {},
     "output_type": "execute_result"
    }
   ],
   "source": [
    "mult_dec_pi(3,5)"
   ]
  },
  {
   "cell_type": "code",
   "execution_count": 103,
   "metadata": {},
   "outputs": [
    {
     "name": "stdout",
     "output_type": "stream",
     "text": [
      "El resultado esperado es\n"
     ]
    },
    {
     "data": {
      "text/plain": [
       "20"
      ]
     },
     "execution_count": 103,
     "metadata": {},
     "output_type": "execute_result"
    }
   ],
   "source": [
    "mult_dec_pi(a=2, b=4)\n",
    "# 20.0"
   ]
  },
  {
   "cell_type": "code",
   "execution_count": 104,
   "metadata": {},
   "outputs": [
    {
     "name": "stdout",
     "output_type": "stream",
     "text": [
      "El resultado esperado es\n"
     ]
    },
    {
     "data": {
      "text/plain": [
       "45"
      ]
     },
     "execution_count": 104,
     "metadata": {},
     "output_type": "execute_result"
    }
   ],
   "source": [
    "mult_dec_pi(a=5, b=10)\n",
    "# 45.0"
   ]
  },
  {
   "cell_type": "code",
   "execution_count": 105,
   "metadata": {},
   "outputs": [
    {
     "name": "stdout",
     "output_type": "stream",
     "text": [
      "El resultado esperado es\n"
     ]
    },
    {
     "data": {
      "text/plain": [
       "9"
      ]
     },
     "execution_count": 105,
     "metadata": {},
     "output_type": "execute_result"
    }
   ],
   "source": [
    "mult_dec_pi(a=14, b=1)\n",
    "# 9.0"
   ]
  },
  {
   "cell_type": "code",
   "execution_count": 106,
   "metadata": {},
   "outputs": [
    {
     "name": "stdout",
     "output_type": "stream",
     "text": [
      "El resultado esperado es\n"
     ]
    },
    {
     "data": {
      "text/plain": [
       "10"
      ]
     },
     "execution_count": 106,
     "metadata": {},
     "output_type": "execute_result"
    }
   ],
   "source": [
    "mult_dec_pi(a=6, b=8)\n",
    "# 10.0"
   ]
  },
  {
   "cell_type": "code",
   "execution_count": 107,
   "metadata": {},
   "outputs": [
    {
     "name": "stdout",
     "output_type": "stream",
     "text": [
      "Error\n"
     ]
    }
   ],
   "source": [
    "# Bonus\n",
    "mult_dec_pi(a=16, b=4)\n",
    "# 'Error'"
   ]
  },
  {
   "cell_type": "markdown",
   "metadata": {},
   "source": [
    "# Exercise 01.2\n",
    "\n",
    "Using the given dataset. Estimate a linear regression between Employed and GNP.\n",
    "\n",
    "$$Employed = b_0 + b_1 * GNP $$\n",
    "\n",
    "$$\\hat b = (X^TX)^{-1}X^TY$$\n",
    "$$Y = Employed$$\n",
    "$$X = [1  \\quad GNP]$$"
   ]
  },
  {
   "cell_type": "code",
   "execution_count": 108,
   "metadata": {},
   "outputs": [
    {
     "data": {
      "text/plain": [
       "Text(0,0.5,'Employed')"
      ]
     },
     "execution_count": 108,
     "metadata": {},
     "output_type": "execute_result"
    },
    {
     "data": {
      "image/png": "[encoded data removed]",
      "text/plain": [
       "<Figure size 432x288 with 1 Axes>"
      ]
     },
     "metadata": {},
     "output_type": "display_data"
    }
   ],
   "source": [
    "%matplotlib inline\n",
    "import numpy as np\n",
    "import matplotlib.pyplot as plt\n",
    "# Import data\n",
    "raw_data = \"\"\"\n",
    "Year,Employed,GNP\n",
    "1947,60.323,234.289\n",
    "1948,61.122,259.426\n",
    "1949,60.171,258.054\n",
    "1950,61.187,284.599\n",
    "1951,63.221,328.975\n",
    "1952,63.639,346.999\n",
    "1953,64.989,365.385\n",
    "1954,63.761,363.112\n",
    "1955,66.019,397.469\n",
    "1956,67.857,419.18\n",
    "1957,68.169,442.769\n",
    "1958,66.513,444.546\n",
    "1959,68.655,482.704\n",
    "1960,69.564,502.601\n",
    "1961,69.331,518.173\n",
    "1962,70.551,554.894\"\"\"\n",
    "\n",
    "data = []\n",
    "for line in raw_data.splitlines()[2:]:\n",
    "    words = line.split(',')\n",
    "    data.append(words)\n",
    "data = np.array(data, dtype=np.float)\n",
    "n_obs = data.shape[0]\n",
    "plt.plot(data[:, 2], data[:, 1], 'bo')\n",
    "plt.plot(data[:, 2], data[:, 1], color=  'r', linewidth=3)\n",
    "plt.xlabel(\"GNP\")\n",
    "plt.ylabel(\"Employed\")\n"
   ]
  },
  {
   "cell_type": "code",
   "execution_count": 109,
   "metadata": {},
   "outputs": [
    {
     "data": {
      "text/plain": [
       "array([[1947.   ,   60.323,  234.289],\n",
       "       [1948.   ,   61.122,  259.426],\n",
       "       [1949.   ,   60.171,  258.054],\n",
       "       [1950.   ,   61.187,  284.599],\n",
       "       [1951.   ,   63.221,  328.975],\n",
       "       [1952.   ,   63.639,  346.999],\n",
       "       [1953.   ,   64.989,  365.385],\n",
       "       [1954.   ,   63.761,  363.112],\n",
       "       [1955.   ,   66.019,  397.469],\n",
       "       [1956.   ,   67.857,  419.18 ],\n",
       "       [1957.   ,   68.169,  442.769],\n",
       "       [1958.   ,   66.513,  444.546],\n",
       "       [1959.   ,   68.655,  482.704],\n",
       "       [1960.   ,   69.564,  502.601],\n",
       "       [1961.   ,   69.331,  518.173],\n",
       "       [1962.   ,   70.551,  554.894]])"
      ]
     },
     "execution_count": 109,
     "metadata": {},
     "output_type": "execute_result"
    }
   ],
   "source": [
    "data"
   ]
  },
  {
   "cell_type": "code",
   "execution_count": 110,
   "metadata": {},
   "outputs": [
    {
     "data": {
      "text/plain": [
       "array([60.323, 61.122, 60.171, 61.187, 63.221, 63.639, 64.989, 63.761,\n",
       "       66.019, 67.857, 68.169, 66.513, 68.655, 69.564, 69.331, 70.551])"
      ]
     },
     "execution_count": 110,
     "metadata": {},
     "output_type": "execute_result"
    }
   ],
   "source": [
    "y=data[:,1]\n",
    "y"
   ]
  },
  {
   "cell_type": "code",
   "execution_count": 111,
   "metadata": {},
   "outputs": [
    {
     "data": {
      "text/plain": [
       "array([234.289, 259.426, 258.054, 284.599, 328.975, 346.999, 365.385,\n",
       "       363.112, 397.469, 419.18 , 442.769, 444.546, 482.704, 502.601,\n",
       "       518.173, 554.894])"
      ]
     },
     "execution_count": 111,
     "metadata": {},
     "output_type": "execute_result"
    }
   ],
   "source": [
    "X=data[:,2]\n",
    "X"
   ]
  },
  {
   "cell_type": "markdown",
   "metadata": {},
   "source": [
    "Definimos la variable de respuesta y la x conforme al enunciado de este ejercicio. "
   ]
  },
  {
   "cell_type": "code",
   "execution_count": 112,
   "metadata": {},
   "outputs": [
    {
     "data": {
      "text/plain": [
       "array([[  1.   , 234.289],\n",
       "       [  1.   , 259.426],\n",
       "       [  1.   , 258.054],\n",
       "       [  1.   , 284.599],\n",
       "       [  1.   , 328.975]])"
      ]
     },
     "execution_count": 112,
     "metadata": {},
     "output_type": "execute_result"
    }
   ],
   "source": [
    "X = data[:,2]\n",
    "y = data[:,1]\n",
    "\n",
    "n_samples = X.shape[0]\n",
    "X_ = np.c_[np.ones(n_samples), X]\n",
    "X_[0:5]"
   ]
  },
  {
   "cell_type": "code",
   "execution_count": 113,
   "metadata": {},
   "outputs": [],
   "source": [
    "beta = np.dot(np.linalg.inv(np.dot(X_.T, X_)),np.dot(X_.T, y))"
   ]
  },
  {
   "cell_type": "code",
   "execution_count": 114,
   "metadata": {},
   "outputs": [
    {
     "data": {
      "text/plain": [
       "array([5.18435898e+01, 3.47522943e-02])"
      ]
     },
     "execution_count": 114,
     "metadata": {},
     "output_type": "execute_result"
    }
   ],
   "source": [
    "beta"
   ]
  },
  {
   "cell_type": "markdown",
   "metadata": {},
   "source": [
    "A manera de ejemplo se toma un Producto Interno Bruto de 800 y se observa cuál el resultado de la variable de respuesta de Empleo. Posteriormente, se observa la regresión lineal que se calcula con la data disponible."
   ]
  },
  {
   "cell_type": "code",
   "execution_count": 115,
   "metadata": {},
   "outputs": [
    {
     "data": {
      "text/plain": [
       "79.64542525998762"
      ]
     },
     "execution_count": 115,
     "metadata": {},
     "output_type": "execute_result"
    }
   ],
   "source": [
    "GNP = 800\n",
    "Employed = beta[0] + beta[1]*GNP\n",
    "Employed"
   ]
  },
  {
   "cell_type": "code",
   "execution_count": 116,
   "metadata": {},
   "outputs": [],
   "source": [
    "y2 = np.array([])"
   ]
  },
  {
   "cell_type": "code",
   "execution_count": 117,
   "metadata": {},
   "outputs": [
    {
     "data": {
      "text/plain": [
       "Text(0,0.5,'Employed')"
      ]
     },
     "execution_count": 117,
     "metadata": {},
     "output_type": "execute_result"
    },
    {
     "data": {
      "image/png": "[encoded data removed]",
      "text/plain": [
       "<Figure size 432x288 with 1 Axes>"
      ]
     },
     "metadata": {},
     "output_type": "display_data"
    }
   ],
   "source": [
    "for gnp in X:\n",
    "    employed = beta[0] + beta[1]*gnp\n",
    "    y2 = np.append(y2,employed)\n",
    "\n",
    "plt.plot(X, y2, 'bo')\n",
    "plt.xlabel(\"GNP\")\n",
    "plt.ylabel(\"Employed\")"
   ]
  },
  {
   "cell_type": "markdown",
   "metadata": {},
   "source": [
    "Podemos observar en el gráfico, la relación lineal entre el GNP y el empleo."
   ]
  },
  {
   "cell_type": "markdown",
   "metadata": {},
   "source": [
    "# Exercise 01.3\n",
    "\n",
    "Analyze the baby names dataset using pandas"
   ]
  },
  {
   "cell_type": "code",
   "execution_count": 118,
   "metadata": {},
   "outputs": [],
   "source": [
    "import pandas as pd\n",
    "# Load dataset\n",
    "import zipfile\n",
    "with zipfile.ZipFile('../datasets/baby-names2.csv.zip', 'r') as z:\n",
    "    f = z.open('baby-names2.csv')\n",
    "    names = pd.io.parsers.read_table(f, sep=',')"
   ]
  },
  {
   "cell_type": "code",
   "execution_count": 119,
   "metadata": {},
   "outputs": [
    {
     "data": {
      "text/html": [
       "<div>\n",
       "<style scoped>\n",
       "    .dataframe tbody tr th:only-of-type {\n",
       "        vertical-align: middle;\n",
       "    }\n",
       "\n",
       "    .dataframe tbody tr th {\n",
       "        vertical-align: top;\n",
       "    }\n",
       "\n",
       "    .dataframe thead th {\n",
       "        text-align: right;\n",
       "    }\n",
       "</style>\n",
       "<table border=\"1\" class=\"dataframe\">\n",
       "  <thead>\n",
       "    <tr style=\"text-align: right;\">\n",
       "      <th></th>\n",
       "      <th>year</th>\n",
       "      <th>name</th>\n",
       "      <th>prop</th>\n",
       "      <th>sex</th>\n",
       "      <th>soundex</th>\n",
       "    </tr>\n",
       "  </thead>\n",
       "  <tbody>\n",
       "    <tr>\n",
       "      <th>0</th>\n",
       "      <td>1880</td>\n",
       "      <td>John</td>\n",
       "      <td>0.081541</td>\n",
       "      <td>boy</td>\n",
       "      <td>J500</td>\n",
       "    </tr>\n",
       "    <tr>\n",
       "      <th>1</th>\n",
       "      <td>1880</td>\n",
       "      <td>William</td>\n",
       "      <td>0.080511</td>\n",
       "      <td>boy</td>\n",
       "      <td>W450</td>\n",
       "    </tr>\n",
       "    <tr>\n",
       "      <th>2</th>\n",
       "      <td>1880</td>\n",
       "      <td>James</td>\n",
       "      <td>0.050057</td>\n",
       "      <td>boy</td>\n",
       "      <td>J520</td>\n",
       "    </tr>\n",
       "    <tr>\n",
       "      <th>3</th>\n",
       "      <td>1880</td>\n",
       "      <td>Charles</td>\n",
       "      <td>0.045167</td>\n",
       "      <td>boy</td>\n",
       "      <td>C642</td>\n",
       "    </tr>\n",
       "    <tr>\n",
       "      <th>4</th>\n",
       "      <td>1880</td>\n",
       "      <td>George</td>\n",
       "      <td>0.043292</td>\n",
       "      <td>boy</td>\n",
       "      <td>G620</td>\n",
       "    </tr>\n",
       "  </tbody>\n",
       "</table>\n",
       "</div>"
      ],
      "text/plain": [
       "   year     name      prop  sex soundex\n",
       "0  1880     John  0.081541  boy    J500\n",
       "1  1880  William  0.080511  boy    W450\n",
       "2  1880    James  0.050057  boy    J520\n",
       "3  1880  Charles  0.045167  boy    C642\n",
       "4  1880   George  0.043292  boy    G620"
      ]
     },
     "execution_count": 119,
     "metadata": {},
     "output_type": "execute_result"
    }
   ],
   "source": [
    "names.head()"
   ]
  },
  {
   "cell_type": "code",
   "execution_count": 120,
   "metadata": {
    "scrolled": true
   },
   "outputs": [
    {
     "data": {
      "text/html": [
       "<div>\n",
       "<style scoped>\n",
       "    .dataframe tbody tr th:only-of-type {\n",
       "        vertical-align: middle;\n",
       "    }\n",
       "\n",
       "    .dataframe tbody tr th {\n",
       "        vertical-align: top;\n",
       "    }\n",
       "\n",
       "    .dataframe thead th {\n",
       "        text-align: right;\n",
       "    }\n",
       "</style>\n",
       "<table border=\"1\" class=\"dataframe\">\n",
       "  <thead>\n",
       "    <tr style=\"text-align: right;\">\n",
       "      <th></th>\n",
       "      <th>year</th>\n",
       "      <th>name</th>\n",
       "      <th>prop</th>\n",
       "      <th>sex</th>\n",
       "      <th>soundex</th>\n",
       "    </tr>\n",
       "  </thead>\n",
       "  <tbody>\n",
       "    <tr>\n",
       "      <th>113000</th>\n",
       "      <td>1993</td>\n",
       "      <td>Michael</td>\n",
       "      <td>0.024010</td>\n",
       "      <td>boy</td>\n",
       "      <td>M240</td>\n",
       "    </tr>\n",
       "    <tr>\n",
       "      <th>113001</th>\n",
       "      <td>1993</td>\n",
       "      <td>Christopher</td>\n",
       "      <td>0.018572</td>\n",
       "      <td>boy</td>\n",
       "      <td>C623</td>\n",
       "    </tr>\n",
       "    <tr>\n",
       "      <th>113002</th>\n",
       "      <td>1993</td>\n",
       "      <td>Matthew</td>\n",
       "      <td>0.017332</td>\n",
       "      <td>boy</td>\n",
       "      <td>M300</td>\n",
       "    </tr>\n",
       "    <tr>\n",
       "      <th>113003</th>\n",
       "      <td>1993</td>\n",
       "      <td>Joshua</td>\n",
       "      <td>0.016268</td>\n",
       "      <td>boy</td>\n",
       "      <td>J200</td>\n",
       "    </tr>\n",
       "    <tr>\n",
       "      <th>113004</th>\n",
       "      <td>1993</td>\n",
       "      <td>Tyler</td>\n",
       "      <td>0.014439</td>\n",
       "      <td>boy</td>\n",
       "      <td>T460</td>\n",
       "    </tr>\n",
       "  </tbody>\n",
       "</table>\n",
       "</div>"
      ],
      "text/plain": [
       "        year         name      prop  sex soundex\n",
       "113000  1993      Michael  0.024010  boy    M240\n",
       "113001  1993  Christopher  0.018572  boy    C623\n",
       "113002  1993      Matthew  0.017332  boy    M300\n",
       "113003  1993       Joshua  0.016268  boy    J200\n",
       "113004  1993        Tyler  0.014439  boy    T460"
      ]
     },
     "execution_count": 120,
     "metadata": {},
     "output_type": "execute_result"
    }
   ],
   "source": [
    "names[names.year == 1993].head()   "
   ]
  },
  {
   "cell_type": "code",
   "execution_count": 121,
   "metadata": {},
   "outputs": [
    {
     "data": {
      "text/plain": [
       "(258000, 5)"
      ]
     },
     "execution_count": 121,
     "metadata": {},
     "output_type": "execute_result"
    }
   ],
   "source": [
    "names.shape"
   ]
  },
  {
   "cell_type": "markdown",
   "metadata": {},
   "source": [
    "### segment the data into boy and girl names"
   ]
  },
  {
   "cell_type": "code",
   "execution_count": 122,
   "metadata": {},
   "outputs": [],
   "source": [
    "boys = names[names.sex == 'boy'].copy()    \n",
    "girls = names[names.sex == 'girl'].copy()"
   ]
  },
  {
   "cell_type": "markdown",
   "metadata": {},
   "source": [
    "### Analyzing the popularity of a name over time"
   ]
  },
  {
   "cell_type": "code",
   "execution_count": 123,
   "metadata": {},
   "outputs": [
    {
     "data": {
      "image/png": "[encoded data removed]",
      "text/plain": [
       "<Figure size 432x288 with 1 Axes>"
      ]
     },
     "metadata": {},
     "output_type": "display_data"
    }
   ],
   "source": [
    "william = boys[boys['name']=='William']\n",
    "\n",
    "plt.plot(range(william.shape[0]), william['prop'])\n",
    "plt.xticks(range(william.shape[0])[::5], william['year'].values[::5], rotation='vertical')\n",
    "plt.ylim([0, 0.1])\n",
    "plt.show()"
   ]
  },
  {
   "cell_type": "code",
   "execution_count": 128,
   "metadata": {},
   "outputs": [
    {
     "data": {
      "image/png": "[encoded data removed]",
      "text/plain": [
       "<Figure size 432x288 with 1 Axes>"
      ]
     },
     "metadata": {},
     "output_type": "display_data"
    }
   ],
   "source": [
    "Daniel = boys[boys['name']=='Daniel']\n",
    "\n",
    "plt.plot(range(Daniel.shape[0]), Daniel['prop'])\n",
    "plt.xticks(range(Daniel.shape[0])[::5], Daniel['year'].values[::5], rotation='vertical')\n",
    "plt.ylim([0, 0.1])\n",
    "plt.show()"
   ]
  },
  {
   "cell_type": "markdown",
   "metadata": {},
   "source": [
    "# Exercise 01.3\n",
    "\n",
    "Which has been the most popular boy name every decade?"
   ]
  },
  {
   "cell_type": "code",
   "execution_count": 129,
   "metadata": {
    "scrolled": true
   },
   "outputs": [
    {
     "data": {
      "text/html": [
       "<div>\n",
       "<style scoped>\n",
       "    .dataframe tbody tr th:only-of-type {\n",
       "        vertical-align: middle;\n",
       "    }\n",
       "\n",
       "    .dataframe tbody tr th {\n",
       "        vertical-align: top;\n",
       "    }\n",
       "\n",
       "    .dataframe thead th {\n",
       "        text-align: right;\n",
       "    }\n",
       "</style>\n",
       "<table border=\"1\" class=\"dataframe\">\n",
       "  <thead>\n",
       "    <tr style=\"text-align: right;\">\n",
       "      <th></th>\n",
       "      <th>decade</th>\n",
       "      <th>prop</th>\n",
       "      <th>year</th>\n",
       "    </tr>\n",
       "    <tr>\n",
       "      <th>name</th>\n",
       "      <th></th>\n",
       "      <th></th>\n",
       "      <th></th>\n",
       "    </tr>\n",
       "  </thead>\n",
       "  <tbody>\n",
       "    <tr>\n",
       "      <th>Aaden</th>\n",
       "      <td>2000.0</td>\n",
       "      <td>0.000442</td>\n",
       "      <td>2008</td>\n",
       "    </tr>\n",
       "    <tr>\n",
       "      <th>Aarav</th>\n",
       "      <td>2000.0</td>\n",
       "      <td>0.000101</td>\n",
       "      <td>2008</td>\n",
       "    </tr>\n",
       "    <tr>\n",
       "      <th>Aaron</th>\n",
       "      <td>250200.0</td>\n",
       "      <td>0.292292</td>\n",
       "      <td>250776</td>\n",
       "    </tr>\n",
       "    <tr>\n",
       "      <th>Ab</th>\n",
       "      <td>9400.0</td>\n",
       "      <td>0.000218</td>\n",
       "      <td>9415</td>\n",
       "    </tr>\n",
       "    <tr>\n",
       "      <th>Abb</th>\n",
       "      <td>5660.0</td>\n",
       "      <td>0.000137</td>\n",
       "      <td>5665</td>\n",
       "    </tr>\n",
       "    <tr>\n",
       "      <th>Abbie</th>\n",
       "      <td>3770.0</td>\n",
       "      <td>0.000092</td>\n",
       "      <td>3778</td>\n",
       "    </tr>\n",
       "    <tr>\n",
       "      <th>Abbott</th>\n",
       "      <td>3760.0</td>\n",
       "      <td>0.000088</td>\n",
       "      <td>3768</td>\n",
       "    </tr>\n",
       "    <tr>\n",
       "      <th>Abdiel</th>\n",
       "      <td>2000.0</td>\n",
       "      <td>0.000092</td>\n",
       "      <td>2008</td>\n",
       "    </tr>\n",
       "    <tr>\n",
       "      <th>Abdul</th>\n",
       "      <td>43570.0</td>\n",
       "      <td>0.001408</td>\n",
       "      <td>43666</td>\n",
       "    </tr>\n",
       "    <tr>\n",
       "      <th>Abdullah</th>\n",
       "      <td>23970.0</td>\n",
       "      <td>0.001122</td>\n",
       "      <td>24029</td>\n",
       "    </tr>\n",
       "    <tr>\n",
       "      <th>Abe</th>\n",
       "      <td>149320.0</td>\n",
       "      <td>0.017558</td>\n",
       "      <td>149672</td>\n",
       "    </tr>\n",
       "    <tr>\n",
       "      <th>Abel</th>\n",
       "      <td>248300.0</td>\n",
       "      <td>0.019486</td>\n",
       "      <td>248871</td>\n",
       "    </tr>\n",
       "    <tr>\n",
       "      <th>Abelardo</th>\n",
       "      <td>1970.0</td>\n",
       "      <td>0.000041</td>\n",
       "      <td>1972</td>\n",
       "    </tr>\n",
       "    <tr>\n",
       "      <th>Abie</th>\n",
       "      <td>1880.0</td>\n",
       "      <td>0.000042</td>\n",
       "      <td>1889</td>\n",
       "    </tr>\n",
       "    <tr>\n",
       "      <th>Abner</th>\n",
       "      <td>106580.0</td>\n",
       "      <td>0.007306</td>\n",
       "      <td>106826</td>\n",
       "    </tr>\n",
       "    <tr>\n",
       "      <th>Abraham</th>\n",
       "      <td>250200.0</td>\n",
       "      <td>0.063702</td>\n",
       "      <td>250776</td>\n",
       "    </tr>\n",
       "    <tr>\n",
       "      <th>Abram</th>\n",
       "      <td>164530.0</td>\n",
       "      <td>0.008967</td>\n",
       "      <td>164921</td>\n",
       "    </tr>\n",
       "    <tr>\n",
       "      <th>Ace</th>\n",
       "      <td>28630.0</td>\n",
       "      <td>0.001194</td>\n",
       "      <td>28700</td>\n",
       "    </tr>\n",
       "    <tr>\n",
       "      <th>Acey</th>\n",
       "      <td>1880.0</td>\n",
       "      <td>0.000042</td>\n",
       "      <td>1886</td>\n",
       "    </tr>\n",
       "    <tr>\n",
       "      <th>Acie</th>\n",
       "      <td>22750.0</td>\n",
       "      <td>0.000739</td>\n",
       "      <td>22798</td>\n",
       "    </tr>\n",
       "    <tr>\n",
       "      <th>Acy</th>\n",
       "      <td>1890.0</td>\n",
       "      <td>0.000046</td>\n",
       "      <td>1896</td>\n",
       "    </tr>\n",
       "    <tr>\n",
       "      <th>Ada</th>\n",
       "      <td>18870.0</td>\n",
       "      <td>0.000569</td>\n",
       "      <td>18918</td>\n",
       "    </tr>\n",
       "    <tr>\n",
       "      <th>Adalberto</th>\n",
       "      <td>1980.0</td>\n",
       "      <td>0.000051</td>\n",
       "      <td>1981</td>\n",
       "    </tr>\n",
       "    <tr>\n",
       "      <th>Adam</th>\n",
       "      <td>250200.0</td>\n",
       "      <td>0.289183</td>\n",
       "      <td>250776</td>\n",
       "    </tr>\n",
       "    <tr>\n",
       "      <th>Adams</th>\n",
       "      <td>1890.0</td>\n",
       "      <td>0.000053</td>\n",
       "      <td>1898</td>\n",
       "    </tr>\n",
       "    <tr>\n",
       "      <th>Adan</th>\n",
       "      <td>131920.0</td>\n",
       "      <td>0.008774</td>\n",
       "      <td>132219</td>\n",
       "    </tr>\n",
       "    <tr>\n",
       "      <th>Add</th>\n",
       "      <td>7550.0</td>\n",
       "      <td>0.000171</td>\n",
       "      <td>7554</td>\n",
       "    </tr>\n",
       "    <tr>\n",
       "      <th>Addie</th>\n",
       "      <td>37770.0</td>\n",
       "      <td>0.001293</td>\n",
       "      <td>37852</td>\n",
       "    </tr>\n",
       "    <tr>\n",
       "      <th>Addison</th>\n",
       "      <td>144720.0</td>\n",
       "      <td>0.008527</td>\n",
       "      <td>145053</td>\n",
       "    </tr>\n",
       "    <tr>\n",
       "      <th>Adelard</th>\n",
       "      <td>9420.0</td>\n",
       "      <td>0.000325</td>\n",
       "      <td>9440</td>\n",
       "    </tr>\n",
       "    <tr>\n",
       "      <th>...</th>\n",
       "      <td>...</td>\n",
       "      <td>...</td>\n",
       "      <td>...</td>\n",
       "    </tr>\n",
       "    <tr>\n",
       "      <th>Yoshio</th>\n",
       "      <td>21070.0</td>\n",
       "      <td>0.000589</td>\n",
       "      <td>21120</td>\n",
       "    </tr>\n",
       "    <tr>\n",
       "      <th>Young</th>\n",
       "      <td>30160.0</td>\n",
       "      <td>0.001275</td>\n",
       "      <td>30222</td>\n",
       "    </tr>\n",
       "    <tr>\n",
       "      <th>Yurem</th>\n",
       "      <td>4000.0</td>\n",
       "      <td>0.000182</td>\n",
       "      <td>4015</td>\n",
       "    </tr>\n",
       "    <tr>\n",
       "      <th>Yusuf</th>\n",
       "      <td>14000.0</td>\n",
       "      <td>0.000671</td>\n",
       "      <td>14034</td>\n",
       "    </tr>\n",
       "    <tr>\n",
       "      <th>Zachariah</th>\n",
       "      <td>73460.0</td>\n",
       "      <td>0.010177</td>\n",
       "      <td>73630</td>\n",
       "    </tr>\n",
       "    <tr>\n",
       "      <th>Zachary</th>\n",
       "      <td>124260.0</td>\n",
       "      <td>0.236096</td>\n",
       "      <td>124551</td>\n",
       "    </tr>\n",
       "    <tr>\n",
       "      <th>Zachery</th>\n",
       "      <td>71490.0</td>\n",
       "      <td>0.013295</td>\n",
       "      <td>71658</td>\n",
       "    </tr>\n",
       "    <tr>\n",
       "      <th>Zack</th>\n",
       "      <td>95580.0</td>\n",
       "      <td>0.005632</td>\n",
       "      <td>95796</td>\n",
       "    </tr>\n",
       "    <tr>\n",
       "      <th>Zackary</th>\n",
       "      <td>65580.0</td>\n",
       "      <td>0.012300</td>\n",
       "      <td>65736</td>\n",
       "    </tr>\n",
       "    <tr>\n",
       "      <th>Zackery</th>\n",
       "      <td>63610.0</td>\n",
       "      <td>0.007415</td>\n",
       "      <td>63760</td>\n",
       "    </tr>\n",
       "    <tr>\n",
       "      <th>Zaid</th>\n",
       "      <td>6000.0</td>\n",
       "      <td>0.000259</td>\n",
       "      <td>6015</td>\n",
       "    </tr>\n",
       "    <tr>\n",
       "      <th>Zaiden</th>\n",
       "      <td>2000.0</td>\n",
       "      <td>0.000106</td>\n",
       "      <td>2008</td>\n",
       "    </tr>\n",
       "    <tr>\n",
       "      <th>Zain</th>\n",
       "      <td>16000.0</td>\n",
       "      <td>0.000796</td>\n",
       "      <td>16036</td>\n",
       "    </tr>\n",
       "    <tr>\n",
       "      <th>Zaire</th>\n",
       "      <td>17990.0</td>\n",
       "      <td>0.000903</td>\n",
       "      <td>18034</td>\n",
       "    </tr>\n",
       "    <tr>\n",
       "      <th>Zakary</th>\n",
       "      <td>33900.0</td>\n",
       "      <td>0.001678</td>\n",
       "      <td>33966</td>\n",
       "    </tr>\n",
       "    <tr>\n",
       "      <th>Zander</th>\n",
       "      <td>18000.0</td>\n",
       "      <td>0.003319</td>\n",
       "      <td>18036</td>\n",
       "    </tr>\n",
       "    <tr>\n",
       "      <th>Zane</th>\n",
       "      <td>172480.0</td>\n",
       "      <td>0.015417</td>\n",
       "      <td>172876</td>\n",
       "    </tr>\n",
       "    <tr>\n",
       "      <th>Zavier</th>\n",
       "      <td>16000.0</td>\n",
       "      <td>0.000786</td>\n",
       "      <td>16036</td>\n",
       "    </tr>\n",
       "    <tr>\n",
       "      <th>Zayden</th>\n",
       "      <td>6000.0</td>\n",
       "      <td>0.000556</td>\n",
       "      <td>6021</td>\n",
       "    </tr>\n",
       "    <tr>\n",
       "      <th>Zayne</th>\n",
       "      <td>10000.0</td>\n",
       "      <td>0.000457</td>\n",
       "      <td>10026</td>\n",
       "    </tr>\n",
       "    <tr>\n",
       "      <th>Zeb</th>\n",
       "      <td>37760.0</td>\n",
       "      <td>0.001600</td>\n",
       "      <td>37846</td>\n",
       "    </tr>\n",
       "    <tr>\n",
       "      <th>Zebulon</th>\n",
       "      <td>9790.0</td>\n",
       "      <td>0.000273</td>\n",
       "      <td>9812</td>\n",
       "    </tr>\n",
       "    <tr>\n",
       "      <th>Zechariah</th>\n",
       "      <td>45820.0</td>\n",
       "      <td>0.002584</td>\n",
       "      <td>45931</td>\n",
       "    </tr>\n",
       "    <tr>\n",
       "      <th>Zed</th>\n",
       "      <td>1890.0</td>\n",
       "      <td>0.000056</td>\n",
       "      <td>1894</td>\n",
       "    </tr>\n",
       "    <tr>\n",
       "      <th>Zeke</th>\n",
       "      <td>7540.0</td>\n",
       "      <td>0.000220</td>\n",
       "      <td>7556</td>\n",
       "    </tr>\n",
       "    <tr>\n",
       "      <th>Zenas</th>\n",
       "      <td>1880.0</td>\n",
       "      <td>0.000052</td>\n",
       "      <td>1885</td>\n",
       "    </tr>\n",
       "    <tr>\n",
       "      <th>Zeno</th>\n",
       "      <td>9460.0</td>\n",
       "      <td>0.000353</td>\n",
       "      <td>9474</td>\n",
       "    </tr>\n",
       "    <tr>\n",
       "      <th>Zigmund</th>\n",
       "      <td>7640.0</td>\n",
       "      <td>0.000208</td>\n",
       "      <td>7670</td>\n",
       "    </tr>\n",
       "    <tr>\n",
       "      <th>Zion</th>\n",
       "      <td>21980.0</td>\n",
       "      <td>0.005389</td>\n",
       "      <td>22033</td>\n",
       "    </tr>\n",
       "    <tr>\n",
       "      <th>Zollie</th>\n",
       "      <td>15110.0</td>\n",
       "      <td>0.000479</td>\n",
       "      <td>15140</td>\n",
       "    </tr>\n",
       "  </tbody>\n",
       "</table>\n",
       "<p>3437 rows × 3 columns</p>\n",
       "</div>"
      ],
      "text/plain": [
       "             decade      prop    year\n",
       "name                                 \n",
       "Aaden        2000.0  0.000442    2008\n",
       "Aarav        2000.0  0.000101    2008\n",
       "Aaron      250200.0  0.292292  250776\n",
       "Ab           9400.0  0.000218    9415\n",
       "Abb          5660.0  0.000137    5665\n",
       "Abbie        3770.0  0.000092    3778\n",
       "Abbott       3760.0  0.000088    3768\n",
       "Abdiel       2000.0  0.000092    2008\n",
       "Abdul       43570.0  0.001408   43666\n",
       "Abdullah    23970.0  0.001122   24029\n",
       "Abe        149320.0  0.017558  149672\n",
       "Abel       248300.0  0.019486  248871\n",
       "Abelardo     1970.0  0.000041    1972\n",
       "Abie         1880.0  0.000042    1889\n",
       "Abner      106580.0  0.007306  106826\n",
       "Abraham    250200.0  0.063702  250776\n",
       "Abram      164530.0  0.008967  164921\n",
       "Ace         28630.0  0.001194   28700\n",
       "Acey         1880.0  0.000042    1886\n",
       "Acie        22750.0  0.000739   22798\n",
       "Acy          1890.0  0.000046    1896\n",
       "Ada         18870.0  0.000569   18918\n",
       "Adalberto    1980.0  0.000051    1981\n",
       "Adam       250200.0  0.289183  250776\n",
       "Adams        1890.0  0.000053    1898\n",
       "Adan       131920.0  0.008774  132219\n",
       "Add          7550.0  0.000171    7554\n",
       "Addie       37770.0  0.001293   37852\n",
       "Addison    144720.0  0.008527  145053\n",
       "Adelard      9420.0  0.000325    9440\n",
       "...             ...       ...     ...\n",
       "Yoshio      21070.0  0.000589   21120\n",
       "Young       30160.0  0.001275   30222\n",
       "Yurem        4000.0  0.000182    4015\n",
       "Yusuf       14000.0  0.000671   14034\n",
       "Zachariah   73460.0  0.010177   73630\n",
       "Zachary    124260.0  0.236096  124551\n",
       "Zachery     71490.0  0.013295   71658\n",
       "Zack        95580.0  0.005632   95796\n",
       "Zackary     65580.0  0.012300   65736\n",
       "Zackery     63610.0  0.007415   63760\n",
       "Zaid         6000.0  0.000259    6015\n",
       "Zaiden       2000.0  0.000106    2008\n",
       "Zain        16000.0  0.000796   16036\n",
       "Zaire       17990.0  0.000903   18034\n",
       "Zakary      33900.0  0.001678   33966\n",
       "Zander      18000.0  0.003319   18036\n",
       "Zane       172480.0  0.015417  172876\n",
       "Zavier      16000.0  0.000786   16036\n",
       "Zayden       6000.0  0.000556    6021\n",
       "Zayne       10000.0  0.000457   10026\n",
       "Zeb         37760.0  0.001600   37846\n",
       "Zebulon      9790.0  0.000273    9812\n",
       "Zechariah   45820.0  0.002584   45931\n",
       "Zed          1890.0  0.000056    1894\n",
       "Zeke         7540.0  0.000220    7556\n",
       "Zenas        1880.0  0.000052    1885\n",
       "Zeno         9460.0  0.000353    9474\n",
       "Zigmund      7640.0  0.000208    7670\n",
       "Zion        21980.0  0.005389   22033\n",
       "Zollie      15110.0  0.000479   15140\n",
       "\n",
       "[3437 rows x 3 columns]"
      ]
     },
     "execution_count": 129,
     "metadata": {},
     "output_type": "execute_result"
    }
   ],
   "source": [
    "pd.pivot_table(boys, index='name', aggfunc=np.sum)"
   ]
  },
  {
   "cell_type": "code",
   "execution_count": 130,
   "metadata": {},
   "outputs": [
    {
     "data": {
      "text/plain": [
       "array([1880, 1881, 1882, 1883, 1884, 1885, 1886, 1887, 1888, 1889, 1890,\n",
       "       1891, 1892, 1893, 1894, 1895, 1896, 1897, 1898, 1899, 1900, 1901,\n",
       "       1902, 1903, 1904, 1905, 1906, 1907, 1908, 1909, 1910, 1911, 1912,\n",
       "       1913, 1914, 1915, 1916, 1917, 1918, 1919, 1920, 1921, 1922, 1923,\n",
       "       1924, 1925, 1926, 1927, 1928, 1929, 1930, 1931, 1932, 1933, 1934,\n",
       "       1935, 1936, 1937, 1938, 1939, 1940, 1941, 1942, 1943, 1944, 1945,\n",
       "       1946, 1947, 1948, 1949, 1950, 1951, 1952, 1953, 1954, 1955, 1956,\n",
       "       1957, 1958, 1959, 1960, 1961, 1962, 1963, 1964, 1965, 1966, 1967,\n",
       "       1968, 1969, 1970, 1971, 1972, 1973, 1974, 1975, 1976, 1977, 1978,\n",
       "       1979, 1980, 1981, 1982, 1983, 1984, 1985, 1986, 1987, 1988, 1989,\n",
       "       1990, 1991, 1992, 1993, 1994, 1995, 1996, 1997, 1998, 1999, 2000,\n",
       "       2001, 2002, 2003, 2004, 2005, 2006, 2007, 2008], dtype=int64)"
      ]
     },
     "execution_count": 130,
     "metadata": {},
     "output_type": "execute_result"
    }
   ],
   "source": [
    "boys.year.unique()"
   ]
  },
  {
   "cell_type": "code",
   "execution_count": 131,
   "metadata": {},
   "outputs": [
    {
     "data": {
      "text/plain": [
       "array([1880., 1890., 1900., 1910., 1920., 1930., 1940., 1950., 1960.,\n",
       "       1970., 1980., 1990., 2000.])"
      ]
     },
     "execution_count": 131,
     "metadata": {},
     "output_type": "execute_result"
    }
   ],
   "source": [
    "boys = pd.DataFrame(boys, columns=['year', 'name', 'prop', 'sex','soundex','decade','calculation','calculation2'])\n",
    "boys['calculation']=boys['year']/10\n",
    "boys['calculation2']=boys['calculation'].apply(np.floor)\n",
    "boys['decade']=boys['calculation2']*10\n",
    "boys = pd.DataFrame(boys, columns=['year', 'name', 'prop', 'sex','soundex','decade'])\n",
    "boys.decade.unique()"
   ]
  },
  {
   "cell_type": "code",
   "execution_count": 132,
   "metadata": {},
   "outputs": [],
   "source": [
    "popularboys = boys.groupby(['decade'],)['prop'].transform(max) == boys['prop']"
   ]
  },
  {
   "cell_type": "code",
   "execution_count": 133,
   "metadata": {},
   "outputs": [
    {
     "data": {
      "text/html": [
       "<div>\n",
       "<style scoped>\n",
       "    .dataframe tbody tr th:only-of-type {\n",
       "        vertical-align: middle;\n",
       "    }\n",
       "\n",
       "    .dataframe tbody tr th {\n",
       "        vertical-align: top;\n",
       "    }\n",
       "\n",
       "    .dataframe thead th {\n",
       "        text-align: right;\n",
       "    }\n",
       "</style>\n",
       "<table border=\"1\" class=\"dataframe\">\n",
       "  <thead>\n",
       "    <tr style=\"text-align: right;\">\n",
       "      <th></th>\n",
       "      <th>year</th>\n",
       "      <th>name</th>\n",
       "      <th>prop</th>\n",
       "      <th>sex</th>\n",
       "      <th>soundex</th>\n",
       "      <th>decade</th>\n",
       "    </tr>\n",
       "  </thead>\n",
       "  <tbody>\n",
       "    <tr>\n",
       "      <th>0</th>\n",
       "      <td>1880</td>\n",
       "      <td>John</td>\n",
       "      <td>0.081541</td>\n",
       "      <td>boy</td>\n",
       "      <td>J500</td>\n",
       "      <td>1880.0</td>\n",
       "    </tr>\n",
       "    <tr>\n",
       "      <th>10000</th>\n",
       "      <td>1890</td>\n",
       "      <td>John</td>\n",
       "      <td>0.071034</td>\n",
       "      <td>boy</td>\n",
       "      <td>J500</td>\n",
       "      <td>1890.0</td>\n",
       "    </tr>\n",
       "    <tr>\n",
       "      <th>20000</th>\n",
       "      <td>1900</td>\n",
       "      <td>John</td>\n",
       "      <td>0.060619</td>\n",
       "      <td>boy</td>\n",
       "      <td>J500</td>\n",
       "      <td>1900.0</td>\n",
       "    </tr>\n",
       "    <tr>\n",
       "      <th>31000</th>\n",
       "      <td>1911</td>\n",
       "      <td>John</td>\n",
       "      <td>0.055709</td>\n",
       "      <td>boy</td>\n",
       "      <td>J500</td>\n",
       "      <td>1910.0</td>\n",
       "    </tr>\n",
       "    <tr>\n",
       "      <th>49000</th>\n",
       "      <td>1929</td>\n",
       "      <td>Robert</td>\n",
       "      <td>0.054029</td>\n",
       "      <td>boy</td>\n",
       "      <td>R163</td>\n",
       "      <td>1920.0</td>\n",
       "    </tr>\n",
       "    <tr>\n",
       "      <th>51000</th>\n",
       "      <td>1931</td>\n",
       "      <td>Robert</td>\n",
       "      <td>0.056598</td>\n",
       "      <td>boy</td>\n",
       "      <td>R163</td>\n",
       "      <td>1930.0</td>\n",
       "    </tr>\n",
       "    <tr>\n",
       "      <th>64000</th>\n",
       "      <td>1944</td>\n",
       "      <td>James</td>\n",
       "      <td>0.055406</td>\n",
       "      <td>boy</td>\n",
       "      <td>J520</td>\n",
       "      <td>1940.0</td>\n",
       "    </tr>\n",
       "    <tr>\n",
       "      <th>70000</th>\n",
       "      <td>1950</td>\n",
       "      <td>James</td>\n",
       "      <td>0.047336</td>\n",
       "      <td>boy</td>\n",
       "      <td>J520</td>\n",
       "      <td>1950.0</td>\n",
       "    </tr>\n",
       "    <tr>\n",
       "      <th>89000</th>\n",
       "      <td>1969</td>\n",
       "      <td>Michael</td>\n",
       "      <td>0.046564</td>\n",
       "      <td>boy</td>\n",
       "      <td>M240</td>\n",
       "      <td>1960.0</td>\n",
       "    </tr>\n",
       "    <tr>\n",
       "      <th>90000</th>\n",
       "      <td>1970</td>\n",
       "      <td>Michael</td>\n",
       "      <td>0.044784</td>\n",
       "      <td>boy</td>\n",
       "      <td>M240</td>\n",
       "      <td>1970.0</td>\n",
       "    </tr>\n",
       "    <tr>\n",
       "      <th>100000</th>\n",
       "      <td>1980</td>\n",
       "      <td>Michael</td>\n",
       "      <td>0.037039</td>\n",
       "      <td>boy</td>\n",
       "      <td>M240</td>\n",
       "      <td>1980.0</td>\n",
       "    </tr>\n",
       "    <tr>\n",
       "      <th>110000</th>\n",
       "      <td>1990</td>\n",
       "      <td>Michael</td>\n",
       "      <td>0.030358</td>\n",
       "      <td>boy</td>\n",
       "      <td>M240</td>\n",
       "      <td>1990.0</td>\n",
       "    </tr>\n",
       "    <tr>\n",
       "      <th>120000</th>\n",
       "      <td>2000</td>\n",
       "      <td>Jacob</td>\n",
       "      <td>0.016514</td>\n",
       "      <td>boy</td>\n",
       "      <td>J210</td>\n",
       "      <td>2000.0</td>\n",
       "    </tr>\n",
       "  </tbody>\n",
       "</table>\n",
       "</div>"
      ],
      "text/plain": [
       "        year     name      prop  sex soundex  decade\n",
       "0       1880     John  0.081541  boy    J500  1880.0\n",
       "10000   1890     John  0.071034  boy    J500  1890.0\n",
       "20000   1900     John  0.060619  boy    J500  1900.0\n",
       "31000   1911     John  0.055709  boy    J500  1910.0\n",
       "49000   1929   Robert  0.054029  boy    R163  1920.0\n",
       "51000   1931   Robert  0.056598  boy    R163  1930.0\n",
       "64000   1944    James  0.055406  boy    J520  1940.0\n",
       "70000   1950    James  0.047336  boy    J520  1950.0\n",
       "89000   1969  Michael  0.046564  boy    M240  1960.0\n",
       "90000   1970  Michael  0.044784  boy    M240  1970.0\n",
       "100000  1980  Michael  0.037039  boy    M240  1980.0\n",
       "110000  1990  Michael  0.030358  boy    M240  1990.0\n",
       "120000  2000    Jacob  0.016514  boy    J210  2000.0"
      ]
     },
     "execution_count": 133,
     "metadata": {},
     "output_type": "execute_result"
    }
   ],
   "source": [
    "boys[popularboys].sort_values(by='decade')"
   ]
  },
  {
   "cell_type": "markdown",
   "metadata": {},
   "source": [
    "# Exercise 01.4\n",
    "\n",
    "Which has been the most popular girl name?\n"
   ]
  },
  {
   "cell_type": "code",
   "execution_count": 134,
   "metadata": {
    "scrolled": true
   },
   "outputs": [
    {
     "data": {
      "text/html": [
       "<div>\n",
       "<style scoped>\n",
       "    .dataframe tbody tr th:only-of-type {\n",
       "        vertical-align: middle;\n",
       "    }\n",
       "\n",
       "    .dataframe tbody tr th {\n",
       "        vertical-align: top;\n",
       "    }\n",
       "\n",
       "    .dataframe thead th {\n",
       "        text-align: right;\n",
       "    }\n",
       "</style>\n",
       "<table border=\"1\" class=\"dataframe\">\n",
       "  <thead>\n",
       "    <tr style=\"text-align: right;\">\n",
       "      <th></th>\n",
       "      <th>prop</th>\n",
       "      <th>year</th>\n",
       "    </tr>\n",
       "    <tr>\n",
       "      <th>name</th>\n",
       "      <th></th>\n",
       "      <th></th>\n",
       "    </tr>\n",
       "  </thead>\n",
       "  <tbody>\n",
       "    <tr>\n",
       "      <th>Aaliyah</th>\n",
       "      <td>0.019748</td>\n",
       "      <td>30015</td>\n",
       "    </tr>\n",
       "    <tr>\n",
       "      <th>Aaron</th>\n",
       "      <td>0.000805</td>\n",
       "      <td>17811</td>\n",
       "    </tr>\n",
       "    <tr>\n",
       "      <th>Abagail</th>\n",
       "      <td>0.001326</td>\n",
       "      <td>20035</td>\n",
       "    </tr>\n",
       "    <tr>\n",
       "      <th>Abbey</th>\n",
       "      <td>0.007409</td>\n",
       "      <td>61783</td>\n",
       "    </tr>\n",
       "    <tr>\n",
       "      <th>Abbie</th>\n",
       "      <td>0.022804</td>\n",
       "      <td>182214</td>\n",
       "    </tr>\n",
       "    <tr>\n",
       "      <th>Abbigail</th>\n",
       "      <td>0.003392</td>\n",
       "      <td>28021</td>\n",
       "    </tr>\n",
       "    <tr>\n",
       "      <th>Abby</th>\n",
       "      <td>0.025351</td>\n",
       "      <td>127881</td>\n",
       "    </tr>\n",
       "    <tr>\n",
       "      <th>Abigail</th>\n",
       "      <td>0.123764</td>\n",
       "      <td>166143</td>\n",
       "    </tr>\n",
       "    <tr>\n",
       "      <th>Abigale</th>\n",
       "      <td>0.001207</td>\n",
       "      <td>18027</td>\n",
       "    </tr>\n",
       "    <tr>\n",
       "      <th>Abigayle</th>\n",
       "      <td>0.001746</td>\n",
       "      <td>22033</td>\n",
       "    </tr>\n",
       "    <tr>\n",
       "      <th>Abril</th>\n",
       "      <td>0.001804</td>\n",
       "      <td>22033</td>\n",
       "    </tr>\n",
       "    <tr>\n",
       "      <th>Achsah</th>\n",
       "      <td>0.000040</td>\n",
       "      <td>1881</td>\n",
       "    </tr>\n",
       "    <tr>\n",
       "      <th>Ada</th>\n",
       "      <td>0.184069</td>\n",
       "      <td>214875</td>\n",
       "    </tr>\n",
       "    <tr>\n",
       "      <th>Adah</th>\n",
       "      <td>0.005603</td>\n",
       "      <td>72143</td>\n",
       "    </tr>\n",
       "    <tr>\n",
       "      <th>Adaline</th>\n",
       "      <td>0.003893</td>\n",
       "      <td>85590</td>\n",
       "    </tr>\n",
       "    <tr>\n",
       "      <th>Adalyn</th>\n",
       "      <td>0.000428</td>\n",
       "      <td>4015</td>\n",
       "    </tr>\n",
       "    <tr>\n",
       "      <th>Adalynn</th>\n",
       "      <td>0.000160</td>\n",
       "      <td>2008</td>\n",
       "    </tr>\n",
       "    <tr>\n",
       "      <th>Adamaris</th>\n",
       "      <td>0.000272</td>\n",
       "      <td>4013</td>\n",
       "    </tr>\n",
       "    <tr>\n",
       "      <th>Adda</th>\n",
       "      <td>0.002259</td>\n",
       "      <td>39692</td>\n",
       "    </tr>\n",
       "    <tr>\n",
       "      <th>Addie</th>\n",
       "      <td>0.083583</td>\n",
       "      <td>157525</td>\n",
       "    </tr>\n",
       "    <tr>\n",
       "      <th>Addison</th>\n",
       "      <td>0.021231</td>\n",
       "      <td>30015</td>\n",
       "    </tr>\n",
       "    <tr>\n",
       "      <th>Addisyn</th>\n",
       "      <td>0.000724</td>\n",
       "      <td>6021</td>\n",
       "    </tr>\n",
       "    <tr>\n",
       "      <th>Addyson</th>\n",
       "      <td>0.002073</td>\n",
       "      <td>10030</td>\n",
       "    </tr>\n",
       "    <tr>\n",
       "      <th>Adel</th>\n",
       "      <td>0.000045</td>\n",
       "      <td>1895</td>\n",
       "    </tr>\n",
       "    <tr>\n",
       "      <th>Adela</th>\n",
       "      <td>0.007692</td>\n",
       "      <td>149643</td>\n",
       "    </tr>\n",
       "    <tr>\n",
       "      <th>Adelaide</th>\n",
       "      <td>0.026786</td>\n",
       "      <td>138146</td>\n",
       "    </tr>\n",
       "    <tr>\n",
       "      <th>Adele</th>\n",
       "      <td>0.040860</td>\n",
       "      <td>173205</td>\n",
       "    </tr>\n",
       "    <tr>\n",
       "      <th>Adelia</th>\n",
       "      <td>0.006217</td>\n",
       "      <td>93296</td>\n",
       "    </tr>\n",
       "    <tr>\n",
       "      <th>Adelina</th>\n",
       "      <td>0.003197</td>\n",
       "      <td>99419</td>\n",
       "    </tr>\n",
       "    <tr>\n",
       "      <th>Adeline</th>\n",
       "      <td>0.047463</td>\n",
       "      <td>161856</td>\n",
       "    </tr>\n",
       "    <tr>\n",
       "      <th>...</th>\n",
       "      <td>...</td>\n",
       "      <td>...</td>\n",
       "    </tr>\n",
       "    <tr>\n",
       "      <th>Zaniyah</th>\n",
       "      <td>0.000290</td>\n",
       "      <td>4015</td>\n",
       "    </tr>\n",
       "    <tr>\n",
       "      <th>Zara</th>\n",
       "      <td>0.000658</td>\n",
       "      <td>8026</td>\n",
       "    </tr>\n",
       "    <tr>\n",
       "      <th>Zaria</th>\n",
       "      <td>0.002716</td>\n",
       "      <td>26026</td>\n",
       "    </tr>\n",
       "    <tr>\n",
       "      <th>Zariah</th>\n",
       "      <td>0.000912</td>\n",
       "      <td>10030</td>\n",
       "    </tr>\n",
       "    <tr>\n",
       "      <th>Zela</th>\n",
       "      <td>0.000048</td>\n",
       "      <td>1897</td>\n",
       "    </tr>\n",
       "    <tr>\n",
       "      <th>Zelda</th>\n",
       "      <td>0.010775</td>\n",
       "      <td>159781</td>\n",
       "    </tr>\n",
       "    <tr>\n",
       "      <th>Zelia</th>\n",
       "      <td>0.000358</td>\n",
       "      <td>11356</td>\n",
       "    </tr>\n",
       "    <tr>\n",
       "      <th>Zella</th>\n",
       "      <td>0.020170</td>\n",
       "      <td>135965</td>\n",
       "    </tr>\n",
       "    <tr>\n",
       "      <th>Zelma</th>\n",
       "      <td>0.022757</td>\n",
       "      <td>145730</td>\n",
       "    </tr>\n",
       "    <tr>\n",
       "      <th>Zelpha</th>\n",
       "      <td>0.000335</td>\n",
       "      <td>11389</td>\n",
       "    </tr>\n",
       "    <tr>\n",
       "      <th>Zena</th>\n",
       "      <td>0.001789</td>\n",
       "      <td>51434</td>\n",
       "    </tr>\n",
       "    <tr>\n",
       "      <th>Zenobia</th>\n",
       "      <td>0.001095</td>\n",
       "      <td>36202</td>\n",
       "    </tr>\n",
       "    <tr>\n",
       "      <th>Zeta</th>\n",
       "      <td>0.000048</td>\n",
       "      <td>1897</td>\n",
       "    </tr>\n",
       "    <tr>\n",
       "      <th>Zetta</th>\n",
       "      <td>0.002265</td>\n",
       "      <td>54935</td>\n",
       "    </tr>\n",
       "    <tr>\n",
       "      <th>Zettie</th>\n",
       "      <td>0.001234</td>\n",
       "      <td>37945</td>\n",
       "    </tr>\n",
       "    <tr>\n",
       "      <th>Zhane</th>\n",
       "      <td>0.000306</td>\n",
       "      <td>3989</td>\n",
       "    </tr>\n",
       "    <tr>\n",
       "      <th>Zillah</th>\n",
       "      <td>0.000183</td>\n",
       "      <td>5656</td>\n",
       "    </tr>\n",
       "    <tr>\n",
       "      <th>Zilpah</th>\n",
       "      <td>0.000091</td>\n",
       "      <td>1881</td>\n",
       "    </tr>\n",
       "    <tr>\n",
       "      <th>Zilpha</th>\n",
       "      <td>0.000433</td>\n",
       "      <td>13214</td>\n",
       "    </tr>\n",
       "    <tr>\n",
       "      <th>Zina</th>\n",
       "      <td>0.001360</td>\n",
       "      <td>19343</td>\n",
       "    </tr>\n",
       "    <tr>\n",
       "      <th>Zion</th>\n",
       "      <td>0.000737</td>\n",
       "      <td>8026</td>\n",
       "    </tr>\n",
       "    <tr>\n",
       "      <th>Zita</th>\n",
       "      <td>0.001547</td>\n",
       "      <td>51447</td>\n",
       "    </tr>\n",
       "    <tr>\n",
       "      <th>Zoa</th>\n",
       "      <td>0.000520</td>\n",
       "      <td>13196</td>\n",
       "    </tr>\n",
       "    <tr>\n",
       "      <th>Zoe</th>\n",
       "      <td>0.037816</td>\n",
       "      <td>192008</td>\n",
       "    </tr>\n",
       "    <tr>\n",
       "      <th>Zoey</th>\n",
       "      <td>0.009506</td>\n",
       "      <td>28021</td>\n",
       "    </tr>\n",
       "    <tr>\n",
       "      <th>Zoie</th>\n",
       "      <td>0.002322</td>\n",
       "      <td>22033</td>\n",
       "    </tr>\n",
       "    <tr>\n",
       "      <th>Zola</th>\n",
       "      <td>0.008304</td>\n",
       "      <td>118451</td>\n",
       "    </tr>\n",
       "    <tr>\n",
       "      <th>Zona</th>\n",
       "      <td>0.005813</td>\n",
       "      <td>118451</td>\n",
       "    </tr>\n",
       "    <tr>\n",
       "      <th>Zora</th>\n",
       "      <td>0.010687</td>\n",
       "      <td>112633</td>\n",
       "    </tr>\n",
       "    <tr>\n",
       "      <th>Zula</th>\n",
       "      <td>0.009292</td>\n",
       "      <td>101025</td>\n",
       "    </tr>\n",
       "  </tbody>\n",
       "</table>\n",
       "<p>4018 rows × 2 columns</p>\n",
       "</div>"
      ],
      "text/plain": [
       "              prop    year\n",
       "name                      \n",
       "Aaliyah   0.019748   30015\n",
       "Aaron     0.000805   17811\n",
       "Abagail   0.001326   20035\n",
       "Abbey     0.007409   61783\n",
       "Abbie     0.022804  182214\n",
       "Abbigail  0.003392   28021\n",
       "Abby      0.025351  127881\n",
       "Abigail   0.123764  166143\n",
       "Abigale   0.001207   18027\n",
       "Abigayle  0.001746   22033\n",
       "Abril     0.001804   22033\n",
       "Achsah    0.000040    1881\n",
       "Ada       0.184069  214875\n",
       "Adah      0.005603   72143\n",
       "Adaline   0.003893   85590\n",
       "Adalyn    0.000428    4015\n",
       "Adalynn   0.000160    2008\n",
       "Adamaris  0.000272    4013\n",
       "Adda      0.002259   39692\n",
       "Addie     0.083583  157525\n",
       "Addison   0.021231   30015\n",
       "Addisyn   0.000724    6021\n",
       "Addyson   0.002073   10030\n",
       "Adel      0.000045    1895\n",
       "Adela     0.007692  149643\n",
       "Adelaide  0.026786  138146\n",
       "Adele     0.040860  173205\n",
       "Adelia    0.006217   93296\n",
       "Adelina   0.003197   99419\n",
       "Adeline   0.047463  161856\n",
       "...            ...     ...\n",
       "Zaniyah   0.000290    4015\n",
       "Zara      0.000658    8026\n",
       "Zaria     0.002716   26026\n",
       "Zariah    0.000912   10030\n",
       "Zela      0.000048    1897\n",
       "Zelda     0.010775  159781\n",
       "Zelia     0.000358   11356\n",
       "Zella     0.020170  135965\n",
       "Zelma     0.022757  145730\n",
       "Zelpha    0.000335   11389\n",
       "Zena      0.001789   51434\n",
       "Zenobia   0.001095   36202\n",
       "Zeta      0.000048    1897\n",
       "Zetta     0.002265   54935\n",
       "Zettie    0.001234   37945\n",
       "Zhane     0.000306    3989\n",
       "Zillah    0.000183    5656\n",
       "Zilpah    0.000091    1881\n",
       "Zilpha    0.000433   13214\n",
       "Zina      0.001360   19343\n",
       "Zion      0.000737    8026\n",
       "Zita      0.001547   51447\n",
       "Zoa       0.000520   13196\n",
       "Zoe       0.037816  192008\n",
       "Zoey      0.009506   28021\n",
       "Zoie      0.002322   22033\n",
       "Zola      0.008304  118451\n",
       "Zona      0.005813  118451\n",
       "Zora      0.010687  112633\n",
       "Zula      0.009292  101025\n",
       "\n",
       "[4018 rows x 2 columns]"
      ]
     },
     "execution_count": 134,
     "metadata": {},
     "output_type": "execute_result"
    }
   ],
   "source": [
    "pd.pivot_table(girls, index='name', aggfunc=np.sum)"
   ]
  },
  {
   "cell_type": "code",
   "execution_count": 135,
   "metadata": {},
   "outputs": [],
   "source": [
    "populargirls = girls.groupby(['name'],)['prop'].transform(max) == girls['prop']"
   ]
  },
  {
   "cell_type": "code",
   "execution_count": 136,
   "metadata": {},
   "outputs": [
    {
     "data": {
      "text/html": [
       "<div>\n",
       "<style scoped>\n",
       "    .dataframe tbody tr th:only-of-type {\n",
       "        vertical-align: middle;\n",
       "    }\n",
       "\n",
       "    .dataframe tbody tr th {\n",
       "        vertical-align: top;\n",
       "    }\n",
       "\n",
       "    .dataframe thead th {\n",
       "        text-align: right;\n",
       "    }\n",
       "</style>\n",
       "<table border=\"1\" class=\"dataframe\">\n",
       "  <thead>\n",
       "    <tr style=\"text-align: right;\">\n",
       "      <th></th>\n",
       "      <th>year</th>\n",
       "      <th>name</th>\n",
       "      <th>prop</th>\n",
       "      <th>sex</th>\n",
       "      <th>soundex</th>\n",
       "    </tr>\n",
       "  </thead>\n",
       "  <tbody>\n",
       "    <tr>\n",
       "      <th>129000</th>\n",
       "      <td>1880</td>\n",
       "      <td>Mary</td>\n",
       "      <td>0.072381</td>\n",
       "      <td>girl</td>\n",
       "      <td>M600</td>\n",
       "    </tr>\n",
       "    <tr>\n",
       "      <th>197000</th>\n",
       "      <td>1948</td>\n",
       "      <td>Linda</td>\n",
       "      <td>0.055203</td>\n",
       "      <td>girl</td>\n",
       "      <td>L530</td>\n",
       "    </tr>\n",
       "    <tr>\n",
       "      <th>223000</th>\n",
       "      <td>1974</td>\n",
       "      <td>Jennifer</td>\n",
       "      <td>0.040294</td>\n",
       "      <td>girl</td>\n",
       "      <td>J516</td>\n",
       "    </tr>\n",
       "    <tr>\n",
       "      <th>184001</th>\n",
       "      <td>1935</td>\n",
       "      <td>Shirley</td>\n",
       "      <td>0.038973</td>\n",
       "      <td>girl</td>\n",
       "      <td>S640</td>\n",
       "    </tr>\n",
       "    <tr>\n",
       "      <th>187001</th>\n",
       "      <td>1938</td>\n",
       "      <td>Barbara</td>\n",
       "      <td>0.034398</td>\n",
       "      <td>girl</td>\n",
       "      <td>B616</td>\n",
       "    </tr>\n",
       "  </tbody>\n",
       "</table>\n",
       "</div>"
      ],
      "text/plain": [
       "        year      name      prop   sex soundex\n",
       "129000  1880      Mary  0.072381  girl    M600\n",
       "197000  1948     Linda  0.055203  girl    L530\n",
       "223000  1974  Jennifer  0.040294  girl    J516\n",
       "184001  1935   Shirley  0.038973  girl    S640\n",
       "187001  1938   Barbara  0.034398  girl    B616"
      ]
     },
     "execution_count": 136,
     "metadata": {},
     "output_type": "execute_result"
    }
   ],
   "source": [
    "(girls[populargirls].sort_values(by='prop', ascending=False))[0:5]"
   ]
  },
  {
   "cell_type": "markdown",
   "metadata": {},
   "source": [
    "Como podemos observar en la  tabla, en este ejercicio se solicita identificar cuál ha sido el nombre más popular de ninas. Sin embargo no se especifica que se busca dicho nombre por decada como en el ejercicio anterior. Dado esto, a diferencia del ejercicio anterior, aquí se muestran los nombre más populares en toda la base de datos. Siendo el más popular \"Mary\"y el segundo más popular \"Linda\"."
   ]
  },
  {
   "cell_type": "markdown",
   "metadata": {},
   "source": [
    "# Exercise 01.5\n",
    "\n",
    "What is the most popular new girl name? (new is a name that appears only in the 2000's)"
   ]
  },
  {
   "cell_type": "code",
   "execution_count": 313,
   "metadata": {},
   "outputs": [
    {
     "data": {
      "text/plain": [
       "array([1880., 1890., 1900., 1910., 1920., 1930., 1940., 1950., 1960.,\n",
       "       1970., 1980., 1990., 2000.])"
      ]
     },
     "execution_count": 313,
     "metadata": {},
     "output_type": "execute_result"
    }
   ],
   "source": [
    "girls = pd.DataFrame(girls, columns=['year', 'name', 'prop', 'sex','soundex','decade','calculation','calculation2'])\n",
    "girls['calculation']=girls['year']/10\n",
    "girls['calculation2']=girls['calculation'].apply(np.floor)\n",
    "girls['decade']=girls['calculation2']*10\n",
    "girls = pd.DataFrame(girls, columns=['year', 'name', 'prop', 'sex','soundex','decade'])\n",
    "girls.decade.unique()"
   ]
  },
  {
   "cell_type": "code",
   "execution_count": 314,
   "metadata": {},
   "outputs": [
    {
     "data": {
      "text/plain": [
       "Index(['year', 'name', 'prop', 'sex', 'soundex', 'decade'], dtype='object')"
      ]
     },
     "execution_count": 314,
     "metadata": {},
     "output_type": "execute_result"
    }
   ],
   "source": [
    "girls.columns"
   ]
  },
  {
   "cell_type": "code",
   "execution_count": 315,
   "metadata": {},
   "outputs": [
    {
     "data": {
      "text/html": [
       "<div>\n",
       "<style scoped>\n",
       "    .dataframe tbody tr th:only-of-type {\n",
       "        vertical-align: middle;\n",
       "    }\n",
       "\n",
       "    .dataframe tbody tr th {\n",
       "        vertical-align: top;\n",
       "    }\n",
       "\n",
       "    .dataframe thead th {\n",
       "        text-align: right;\n",
       "    }\n",
       "</style>\n",
       "<table border=\"1\" class=\"dataframe\">\n",
       "  <thead>\n",
       "    <tr style=\"text-align: right;\">\n",
       "      <th></th>\n",
       "      <th>year</th>\n",
       "      <th>name</th>\n",
       "      <th>prop</th>\n",
       "      <th>sex</th>\n",
       "      <th>soundex</th>\n",
       "      <th>decade</th>\n",
       "    </tr>\n",
       "  </thead>\n",
       "  <tbody>\n",
       "    <tr>\n",
       "      <th>249000</th>\n",
       "      <td>2000</td>\n",
       "      <td>Emily</td>\n",
       "      <td>0.013017</td>\n",
       "      <td>girl</td>\n",
       "      <td>E540</td>\n",
       "      <td>2000.0</td>\n",
       "    </tr>\n",
       "    <tr>\n",
       "      <th>249001</th>\n",
       "      <td>2000</td>\n",
       "      <td>Hannah</td>\n",
       "      <td>0.011569</td>\n",
       "      <td>girl</td>\n",
       "      <td>H500</td>\n",
       "      <td>2000.0</td>\n",
       "    </tr>\n",
       "    <tr>\n",
       "      <th>249002</th>\n",
       "      <td>2000</td>\n",
       "      <td>Madison</td>\n",
       "      <td>0.010017</td>\n",
       "      <td>girl</td>\n",
       "      <td>M325</td>\n",
       "      <td>2000.0</td>\n",
       "    </tr>\n",
       "    <tr>\n",
       "      <th>249003</th>\n",
       "      <td>2000</td>\n",
       "      <td>Ashley</td>\n",
       "      <td>0.009027</td>\n",
       "      <td>girl</td>\n",
       "      <td>A240</td>\n",
       "      <td>2000.0</td>\n",
       "    </tr>\n",
       "    <tr>\n",
       "      <th>249004</th>\n",
       "      <td>2000</td>\n",
       "      <td>Sarah</td>\n",
       "      <td>0.008865</td>\n",
       "      <td>girl</td>\n",
       "      <td>S600</td>\n",
       "      <td>2000.0</td>\n",
       "    </tr>\n",
       "  </tbody>\n",
       "</table>\n",
       "</div>"
      ],
      "text/plain": [
       "        year     name      prop   sex soundex  decade\n",
       "249000  2000    Emily  0.013017  girl    E540  2000.0\n",
       "249001  2000   Hannah  0.011569  girl    H500  2000.0\n",
       "249002  2000  Madison  0.010017  girl    M325  2000.0\n",
       "249003  2000   Ashley  0.009027  girl    A240  2000.0\n",
       "249004  2000    Sarah  0.008865  girl    S600  2000.0"
      ]
     },
     "execution_count": 315,
     "metadata": {},
     "output_type": "execute_result"
    }
   ],
   "source": [
    "girl_names_2000 = girls[girls.decade ==2000.0].copy()\n",
    "girl_names_2000[0:5]"
   ]
  },
  {
   "cell_type": "code",
   "execution_count": 316,
   "metadata": {},
   "outputs": [],
   "source": [
    "girls2000 = girl_names_2000.groupby(['sex'],)['name'].unique()"
   ]
  },
  {
   "cell_type": "code",
   "execution_count": 317,
   "metadata": {},
   "outputs": [
    {
     "data": {
      "text/plain": [
       "array(['Emily', 'Hannah', 'Madison', ..., 'Kenley', 'Sloane', 'Elianna'],\n",
       "      dtype=object)"
      ]
     },
     "execution_count": 317,
     "metadata": {},
     "output_type": "execute_result"
    }
   ],
   "source": [
    "girls2000[0]"
   ]
  },
  {
   "cell_type": "code",
   "execution_count": 318,
   "metadata": {},
   "outputs": [
    {
     "data": {
      "text/html": [
       "<div>\n",
       "<style scoped>\n",
       "    .dataframe tbody tr th:only-of-type {\n",
       "        vertical-align: middle;\n",
       "    }\n",
       "\n",
       "    .dataframe tbody tr th {\n",
       "        vertical-align: top;\n",
       "    }\n",
       "\n",
       "    .dataframe thead th {\n",
       "        text-align: right;\n",
       "    }\n",
       "</style>\n",
       "<table border=\"1\" class=\"dataframe\">\n",
       "  <thead>\n",
       "    <tr style=\"text-align: right;\">\n",
       "      <th></th>\n",
       "      <th>year</th>\n",
       "      <th>name</th>\n",
       "      <th>prop</th>\n",
       "      <th>sex</th>\n",
       "      <th>soundex</th>\n",
       "      <th>decade</th>\n",
       "    </tr>\n",
       "  </thead>\n",
       "  <tbody>\n",
       "    <tr>\n",
       "      <th>129000</th>\n",
       "      <td>1880</td>\n",
       "      <td>Mary</td>\n",
       "      <td>0.072381</td>\n",
       "      <td>girl</td>\n",
       "      <td>M600</td>\n",
       "      <td>1880.0</td>\n",
       "    </tr>\n",
       "    <tr>\n",
       "      <th>129001</th>\n",
       "      <td>1880</td>\n",
       "      <td>Anna</td>\n",
       "      <td>0.026678</td>\n",
       "      <td>girl</td>\n",
       "      <td>A500</td>\n",
       "      <td>1880.0</td>\n",
       "    </tr>\n",
       "    <tr>\n",
       "      <th>129002</th>\n",
       "      <td>1880</td>\n",
       "      <td>Emma</td>\n",
       "      <td>0.020521</td>\n",
       "      <td>girl</td>\n",
       "      <td>E500</td>\n",
       "      <td>1880.0</td>\n",
       "    </tr>\n",
       "    <tr>\n",
       "      <th>129003</th>\n",
       "      <td>1880</td>\n",
       "      <td>Elizabeth</td>\n",
       "      <td>0.019865</td>\n",
       "      <td>girl</td>\n",
       "      <td>E421</td>\n",
       "      <td>1880.0</td>\n",
       "    </tr>\n",
       "    <tr>\n",
       "      <th>129004</th>\n",
       "      <td>1880</td>\n",
       "      <td>Minnie</td>\n",
       "      <td>0.017888</td>\n",
       "      <td>girl</td>\n",
       "      <td>M500</td>\n",
       "      <td>1880.0</td>\n",
       "    </tr>\n",
       "  </tbody>\n",
       "</table>\n",
       "</div>"
      ],
      "text/plain": [
       "        year       name      prop   sex soundex  decade\n",
       "129000  1880       Mary  0.072381  girl    M600  1880.0\n",
       "129001  1880       Anna  0.026678  girl    A500  1880.0\n",
       "129002  1880       Emma  0.020521  girl    E500  1880.0\n",
       "129003  1880  Elizabeth  0.019865  girl    E421  1880.0\n",
       "129004  1880     Minnie  0.017888  girl    M500  1880.0"
      ]
     },
     "execution_count": 318,
     "metadata": {},
     "output_type": "execute_result"
    }
   ],
   "source": [
    "girl_names_not_2000 = girls[girls.decade!=2000.0].copy()\n",
    "girl_names_not_2000[0:5]"
   ]
  },
  {
   "cell_type": "code",
   "execution_count": 319,
   "metadata": {},
   "outputs": [
    {
     "data": {
      "text/plain": [
       "pandas.core.series.Series"
      ]
     },
     "execution_count": 319,
     "metadata": {},
     "output_type": "execute_result"
    }
   ],
   "source": [
    "type(girl_names_not_2000.decade)"
   ]
  },
  {
   "cell_type": "code",
   "execution_count": 320,
   "metadata": {},
   "outputs": [
    {
     "data": {
      "text/html": [
       "<div>\n",
       "<style scoped>\n",
       "    .dataframe tbody tr th:only-of-type {\n",
       "        vertical-align: middle;\n",
       "    }\n",
       "\n",
       "    .dataframe tbody tr th {\n",
       "        vertical-align: top;\n",
       "    }\n",
       "\n",
       "    .dataframe thead th {\n",
       "        text-align: right;\n",
       "    }\n",
       "</style>\n",
       "<table border=\"1\" class=\"dataframe\">\n",
       "  <thead>\n",
       "    <tr style=\"text-align: right;\">\n",
       "      <th></th>\n",
       "      <th>year</th>\n",
       "      <th>name</th>\n",
       "      <th>prop</th>\n",
       "      <th>sex</th>\n",
       "      <th>soundex</th>\n",
       "      <th>decade</th>\n",
       "    </tr>\n",
       "  </thead>\n",
       "  <tbody>\n",
       "    <tr>\n",
       "      <th>129000</th>\n",
       "      <td>1880</td>\n",
       "      <td>Mary</td>\n",
       "      <td>0.072381</td>\n",
       "      <td>girl</td>\n",
       "      <td>M600</td>\n",
       "      <td>1880.0</td>\n",
       "    </tr>\n",
       "    <tr>\n",
       "      <th>129001</th>\n",
       "      <td>1880</td>\n",
       "      <td>Anna</td>\n",
       "      <td>0.026678</td>\n",
       "      <td>girl</td>\n",
       "      <td>A500</td>\n",
       "      <td>1880.0</td>\n",
       "    </tr>\n",
       "    <tr>\n",
       "      <th>129002</th>\n",
       "      <td>1880</td>\n",
       "      <td>Emma</td>\n",
       "      <td>0.020521</td>\n",
       "      <td>girl</td>\n",
       "      <td>E500</td>\n",
       "      <td>1880.0</td>\n",
       "    </tr>\n",
       "    <tr>\n",
       "      <th>129003</th>\n",
       "      <td>1880</td>\n",
       "      <td>Elizabeth</td>\n",
       "      <td>0.019865</td>\n",
       "      <td>girl</td>\n",
       "      <td>E421</td>\n",
       "      <td>1880.0</td>\n",
       "    </tr>\n",
       "    <tr>\n",
       "      <th>129004</th>\n",
       "      <td>1880</td>\n",
       "      <td>Minnie</td>\n",
       "      <td>0.017888</td>\n",
       "      <td>girl</td>\n",
       "      <td>M500</td>\n",
       "      <td>1880.0</td>\n",
       "    </tr>\n",
       "  </tbody>\n",
       "</table>\n",
       "</div>"
      ],
      "text/plain": [
       "        year       name      prop   sex soundex  decade\n",
       "129000  1880       Mary  0.072381  girl    M600  1880.0\n",
       "129001  1880       Anna  0.026678  girl    A500  1880.0\n",
       "129002  1880       Emma  0.020521  girl    E500  1880.0\n",
       "129003  1880  Elizabeth  0.019865  girl    E421  1880.0\n",
       "129004  1880     Minnie  0.017888  girl    M500  1880.0"
      ]
     },
     "execution_count": 320,
     "metadata": {},
     "output_type": "execute_result"
    }
   ],
   "source": [
    "girl_names_not_2000['decade']=girl_names_not_2000.decade.apply(str)\n",
    "girl_names_not_2000[0:5]"
   ]
  },
  {
   "cell_type": "code",
   "execution_count": 321,
   "metadata": {},
   "outputs": [],
   "source": [
    "girls_not_2000 = girl_names_not_2000.groupby(['decade'],)['name'].unique()"
   ]
  },
  {
   "cell_type": "code",
   "execution_count": 322,
   "metadata": {},
   "outputs": [
    {
     "data": {
      "text/plain": [
       "decade\n",
       "1880.0    [Mary, Anna, Emma, Elizabeth, Minnie, Margaret...\n",
       "1890.0    [Mary, Anna, Elizabeth, Margaret, Emma, Floren...\n",
       "1900.0    [Mary, Helen, Anna, Margaret, Ruth, Elizabeth,...\n",
       "1910.0    [Mary, Helen, Margaret, Dorothy, Ruth, Anna, E...\n",
       "1920.0    [Mary, Dorothy, Helen, Margaret, Ruth, Mildred...\n",
       "1930.0    [Mary, Betty, Dorothy, Helen, Margaret, Barbar...\n",
       "1940.0    [Mary, Barbara, Patricia, Judith, Betty, Carol...\n",
       "1950.0    [Linda, Mary, Patricia, Barbara, Susan, Nancy,...\n",
       "1960.0    [Mary, Susan, Linda, Karen, Donna, Lisa, Patri...\n",
       "1970.0    [Jennifer, Lisa, Kimberly, Michelle, Amy, Ange...\n",
       "1980.0    [Jennifer, Amanda, Jessica, Melissa, Sarah, He...\n",
       "1990.0    [Jessica, Ashley, Brittany, Amanda, Samantha, ...\n",
       "Name: name, dtype: object"
      ]
     },
     "execution_count": 322,
     "metadata": {},
     "output_type": "execute_result"
    }
   ],
   "source": [
    "girls_not_2000"
   ]
  },
  {
   "cell_type": "code",
   "execution_count": 323,
   "metadata": {},
   "outputs": [
    {
     "data": {
      "text/plain": [
       "array(['Linda', 'Mary', 'Patricia', ..., 'Vilma', 'Deedee', 'Kayla'],\n",
       "      dtype=object)"
      ]
     },
     "execution_count": 323,
     "metadata": {},
     "output_type": "execute_result"
    }
   ],
   "source": [
    "girls_not_2000[7]"
   ]
  },
  {
   "cell_type": "code",
   "execution_count": 324,
   "metadata": {},
   "outputs": [],
   "source": [
    "new = []\n",
    "for name in girls2000[0]:\n",
    "    exists = False\n",
    "    for i in range(0, len(girls_not_2000)):\n",
    "        for name_bf in girls_not_2000[i]:\n",
    "            if name == name_bf:\n",
    "                exists = True\n",
    "    \n",
    "    if not exists:\n",
    "        new.append(name)\n"
   ]
  },
  {
   "cell_type": "code",
   "execution_count": 325,
   "metadata": {},
   "outputs": [
    {
     "data": {
      "text/html": [
       "<div>\n",
       "<style scoped>\n",
       "    .dataframe tbody tr th:only-of-type {\n",
       "        vertical-align: middle;\n",
       "    }\n",
       "\n",
       "    .dataframe tbody tr th {\n",
       "        vertical-align: top;\n",
       "    }\n",
       "\n",
       "    .dataframe thead th {\n",
       "        text-align: right;\n",
       "    }\n",
       "</style>\n",
       "<table border=\"1\" class=\"dataframe\">\n",
       "  <thead>\n",
       "    <tr style=\"text-align: right;\">\n",
       "      <th></th>\n",
       "      <th>year</th>\n",
       "      <th>name</th>\n",
       "      <th>prop</th>\n",
       "      <th>sex</th>\n",
       "      <th>soundex</th>\n",
       "      <th>decade</th>\n",
       "    </tr>\n",
       "  </thead>\n",
       "  <tbody>\n",
       "    <tr>\n",
       "      <th>249395</th>\n",
       "      <td>2000</td>\n",
       "      <td>Litzy</td>\n",
       "      <td>0.000361</td>\n",
       "      <td>girl</td>\n",
       "      <td>L320</td>\n",
       "      <td>2000.0</td>\n",
       "    </tr>\n",
       "    <tr>\n",
       "      <th>249480</th>\n",
       "      <td>2000</td>\n",
       "      <td>Brisa</td>\n",
       "      <td>0.000282</td>\n",
       "      <td>girl</td>\n",
       "      <td>B620</td>\n",
       "      <td>2000.0</td>\n",
       "    </tr>\n",
       "    <tr>\n",
       "      <th>249567</th>\n",
       "      <td>2000</td>\n",
       "      <td>Amya</td>\n",
       "      <td>0.000230</td>\n",
       "      <td>girl</td>\n",
       "      <td>A500</td>\n",
       "      <td>2000.0</td>\n",
       "    </tr>\n",
       "    <tr>\n",
       "      <th>249728</th>\n",
       "      <td>2000</td>\n",
       "      <td>Jackeline</td>\n",
       "      <td>0.000160</td>\n",
       "      <td>girl</td>\n",
       "      <td>J245</td>\n",
       "      <td>2000.0</td>\n",
       "    </tr>\n",
       "    <tr>\n",
       "      <th>249756</th>\n",
       "      <td>2000</td>\n",
       "      <td>Kaya</td>\n",
       "      <td>0.000151</td>\n",
       "      <td>girl</td>\n",
       "      <td>K000</td>\n",
       "      <td>2000.0</td>\n",
       "    </tr>\n",
       "  </tbody>\n",
       "</table>\n",
       "</div>"
      ],
      "text/plain": [
       "        year       name      prop   sex soundex  decade\n",
       "249395  2000      Litzy  0.000361  girl    L320  2000.0\n",
       "249480  2000      Brisa  0.000282  girl    B620  2000.0\n",
       "249567  2000       Amya  0.000230  girl    A500  2000.0\n",
       "249728  2000  Jackeline  0.000160  girl    J245  2000.0\n",
       "249756  2000       Kaya  0.000151  girl    K000  2000.0"
      ]
     },
     "execution_count": 325,
     "metadata": {},
     "output_type": "execute_result"
    }
   ],
   "source": [
    "new_names = girls[girls.name.isin(new)]\n",
    "new_names[0:5]"
   ]
  },
  {
   "cell_type": "code",
   "execution_count": 330,
   "metadata": {},
   "outputs": [
    {
     "data": {
      "text/html": [
       "<div>\n",
       "<style scoped>\n",
       "    .dataframe tbody tr th:only-of-type {\n",
       "        vertical-align: middle;\n",
       "    }\n",
       "\n",
       "    .dataframe tbody tr th {\n",
       "        vertical-align: top;\n",
       "    }\n",
       "\n",
       "    .dataframe thead th {\n",
       "        text-align: right;\n",
       "    }\n",
       "</style>\n",
       "<table border=\"1\" class=\"dataframe\">\n",
       "  <thead>\n",
       "    <tr style=\"text-align: right;\">\n",
       "      <th></th>\n",
       "      <th>year</th>\n",
       "      <th>name</th>\n",
       "      <th>prop</th>\n",
       "      <th>sex</th>\n",
       "      <th>soundex</th>\n",
       "      <th>decade</th>\n",
       "    </tr>\n",
       "  </thead>\n",
       "  <tbody>\n",
       "    <tr>\n",
       "      <th>256030</th>\n",
       "      <td>2007</td>\n",
       "      <td>Nevaeh</td>\n",
       "      <td>0.003208</td>\n",
       "      <td>girl</td>\n",
       "      <td>N100</td>\n",
       "      <td>2000.0</td>\n",
       "    </tr>\n",
       "    <tr>\n",
       "      <th>257033</th>\n",
       "      <td>2008</td>\n",
       "      <td>Nevaeh</td>\n",
       "      <td>0.002914</td>\n",
       "      <td>girl</td>\n",
       "      <td>N100</td>\n",
       "      <td>2000.0</td>\n",
       "    </tr>\n",
       "    <tr>\n",
       "      <th>255042</th>\n",
       "      <td>2006</td>\n",
       "      <td>Nevaeh</td>\n",
       "      <td>0.002833</td>\n",
       "      <td>girl</td>\n",
       "      <td>N100</td>\n",
       "      <td>2000.0</td>\n",
       "    </tr>\n",
       "    <tr>\n",
       "      <th>254068</th>\n",
       "      <td>2005</td>\n",
       "      <td>Nevaeh</td>\n",
       "      <td>0.002239</td>\n",
       "      <td>girl</td>\n",
       "      <td>N100</td>\n",
       "      <td>2000.0</td>\n",
       "    </tr>\n",
       "    <tr>\n",
       "      <th>253103</th>\n",
       "      <td>2004</td>\n",
       "      <td>Nevaeh</td>\n",
       "      <td>0.001575</td>\n",
       "      <td>girl</td>\n",
       "      <td>N100</td>\n",
       "      <td>2000.0</td>\n",
       "    </tr>\n",
       "    <tr>\n",
       "      <th>255109</th>\n",
       "      <td>2006</td>\n",
       "      <td>Keira</td>\n",
       "      <td>0.001449</td>\n",
       "      <td>girl</td>\n",
       "      <td>K600</td>\n",
       "      <td>2000.0</td>\n",
       "    </tr>\n",
       "    <tr>\n",
       "      <th>257122</th>\n",
       "      <td>2008</td>\n",
       "      <td>Keira</td>\n",
       "      <td>0.001318</td>\n",
       "      <td>girl</td>\n",
       "      <td>K600</td>\n",
       "      <td>2000.0</td>\n",
       "    </tr>\n",
       "    <tr>\n",
       "      <th>257126</th>\n",
       "      <td>2008</td>\n",
       "      <td>Miley</td>\n",
       "      <td>0.001277</td>\n",
       "      <td>girl</td>\n",
       "      <td>M400</td>\n",
       "      <td>2000.0</td>\n",
       "    </tr>\n",
       "    <tr>\n",
       "      <th>256127</th>\n",
       "      <td>2007</td>\n",
       "      <td>Keira</td>\n",
       "      <td>0.001268</td>\n",
       "      <td>girl</td>\n",
       "      <td>K600</td>\n",
       "      <td>2000.0</td>\n",
       "    </tr>\n",
       "    <tr>\n",
       "      <th>252144</th>\n",
       "      <td>2003</td>\n",
       "      <td>Nevaeh</td>\n",
       "      <td>0.001144</td>\n",
       "      <td>girl</td>\n",
       "      <td>N100</td>\n",
       "      <td>2000.0</td>\n",
       "    </tr>\n",
       "  </tbody>\n",
       "</table>\n",
       "</div>"
      ],
      "text/plain": [
       "        year    name      prop   sex soundex  decade\n",
       "256030  2007  Nevaeh  0.003208  girl    N100  2000.0\n",
       "257033  2008  Nevaeh  0.002914  girl    N100  2000.0\n",
       "255042  2006  Nevaeh  0.002833  girl    N100  2000.0\n",
       "254068  2005  Nevaeh  0.002239  girl    N100  2000.0\n",
       "253103  2004  Nevaeh  0.001575  girl    N100  2000.0\n",
       "255109  2006   Keira  0.001449  girl    K600  2000.0\n",
       "257122  2008   Keira  0.001318  girl    K600  2000.0\n",
       "257126  2008   Miley  0.001277  girl    M400  2000.0\n",
       "256127  2007   Keira  0.001268  girl    K600  2000.0\n",
       "252144  2003  Nevaeh  0.001144  girl    N100  2000.0"
      ]
     },
     "execution_count": 330,
     "metadata": {},
     "output_type": "execute_result"
    }
   ],
   "source": [
    "new_names.sort_values(by='prop',ascending=False)[0:10]"
   ]
  },
  {
   "cell_type": "markdown",
   "metadata": {},
   "source": [
    "Como podemos observar en la tabla anterior, el nombre nuevo más popular en la decada del 2000 desde el ano 2004 es Nevaeh y el siguiente más popular ha sido Keira."
   ]
  }
 ],
 "metadata": {
  "kernelspec": {
   "display_name": "Python 3",
   "language": "python",
   "name": "python3"
  },
  "language_info": {
   "codemirror_mode": {
    "name": "ipython",
    "version": 3
   },
   "file_extension": ".py",
   "mimetype": "text/x-python",
   "name": "python",
   "nbconvert_exporter": "python",
   "pygments_lexer": "ipython3",
   "version": "3.6.5"
  }
 },
 "nbformat": 4,
 "nbformat_minor": 2
}

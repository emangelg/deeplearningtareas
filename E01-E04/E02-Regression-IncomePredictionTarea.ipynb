{
 "cells": [
  {
   "cell_type": "markdown",
   "metadata": {},
   "source": [
    "# Exercise 02\n",
    "\n",
    "Estimate a regression using the Income data\n",
    "\n",
    "\n",
    "## Forecast of income\n",
    "\n",
    "We'll be working with a dataset from US Census indome ([data dictionary](https://archive.ics.uci.edu/ml/datasets/Adult)).\n",
    "\n",
    "Many businesses would like to personalize their offer based on customer’s income. High-income customers could be, for instance, exposed to premium products. As a customer’s income is not always explicitly known, predictive model could estimate income of a person based on other information.\n",
    "\n",
    "Our goal is to create a predictive model that will be able to output an estimation of a person income."
   ]
  },
  {
   "cell_type": "code",
   "execution_count": 441,
   "metadata": {},
   "outputs": [
    {
     "data": {
      "text/html": [
       "<div>\n",
       "<style scoped>\n",
       "    .dataframe tbody tr th:only-of-type {\n",
       "        vertical-align: middle;\n",
       "    }\n",
       "\n",
       "    .dataframe tbody tr th {\n",
       "        vertical-align: top;\n",
       "    }\n",
       "\n",
       "    .dataframe thead th {\n",
       "        text-align: right;\n",
       "    }\n",
       "</style>\n",
       "<table border=\"1\" class=\"dataframe\">\n",
       "  <thead>\n",
       "    <tr style=\"text-align: right;\">\n",
       "      <th></th>\n",
       "      <th>Age</th>\n",
       "      <th>Workclass</th>\n",
       "      <th>fnlwgt</th>\n",
       "      <th>Education</th>\n",
       "      <th>Education-Num</th>\n",
       "      <th>Martial Status</th>\n",
       "      <th>Occupation</th>\n",
       "      <th>Relationship</th>\n",
       "      <th>Race</th>\n",
       "      <th>Sex</th>\n",
       "      <th>Capital Gain</th>\n",
       "      <th>Capital Loss</th>\n",
       "      <th>Hours per week</th>\n",
       "      <th>Country</th>\n",
       "      <th>Income</th>\n",
       "    </tr>\n",
       "  </thead>\n",
       "  <tbody>\n",
       "    <tr>\n",
       "      <th>0</th>\n",
       "      <td>39</td>\n",
       "      <td>State-gov</td>\n",
       "      <td>77516</td>\n",
       "      <td>Bachelors</td>\n",
       "      <td>13</td>\n",
       "      <td>Never-married</td>\n",
       "      <td>Adm-clerical</td>\n",
       "      <td>Not-in-family</td>\n",
       "      <td>White</td>\n",
       "      <td>Male</td>\n",
       "      <td>2174</td>\n",
       "      <td>0</td>\n",
       "      <td>40</td>\n",
       "      <td>United-States</td>\n",
       "      <td>51806.0</td>\n",
       "    </tr>\n",
       "    <tr>\n",
       "      <th>1</th>\n",
       "      <td>50</td>\n",
       "      <td>Self-emp-not-inc</td>\n",
       "      <td>83311</td>\n",
       "      <td>Bachelors</td>\n",
       "      <td>13</td>\n",
       "      <td>Married-civ-spouse</td>\n",
       "      <td>Exec-managerial</td>\n",
       "      <td>Husband</td>\n",
       "      <td>White</td>\n",
       "      <td>Male</td>\n",
       "      <td>0</td>\n",
       "      <td>0</td>\n",
       "      <td>13</td>\n",
       "      <td>United-States</td>\n",
       "      <td>68719.0</td>\n",
       "    </tr>\n",
       "    <tr>\n",
       "      <th>2</th>\n",
       "      <td>38</td>\n",
       "      <td>Private</td>\n",
       "      <td>215646</td>\n",
       "      <td>HS-grad</td>\n",
       "      <td>9</td>\n",
       "      <td>Divorced</td>\n",
       "      <td>Handlers-cleaners</td>\n",
       "      <td>Not-in-family</td>\n",
       "      <td>White</td>\n",
       "      <td>Male</td>\n",
       "      <td>0</td>\n",
       "      <td>0</td>\n",
       "      <td>40</td>\n",
       "      <td>United-States</td>\n",
       "      <td>51255.0</td>\n",
       "    </tr>\n",
       "    <tr>\n",
       "      <th>3</th>\n",
       "      <td>53</td>\n",
       "      <td>Private</td>\n",
       "      <td>234721</td>\n",
       "      <td>11th</td>\n",
       "      <td>7</td>\n",
       "      <td>Married-civ-spouse</td>\n",
       "      <td>Handlers-cleaners</td>\n",
       "      <td>Husband</td>\n",
       "      <td>Black</td>\n",
       "      <td>Male</td>\n",
       "      <td>0</td>\n",
       "      <td>0</td>\n",
       "      <td>40</td>\n",
       "      <td>United-States</td>\n",
       "      <td>47398.0</td>\n",
       "    </tr>\n",
       "    <tr>\n",
       "      <th>4</th>\n",
       "      <td>28</td>\n",
       "      <td>Private</td>\n",
       "      <td>338409</td>\n",
       "      <td>Bachelors</td>\n",
       "      <td>13</td>\n",
       "      <td>Married-civ-spouse</td>\n",
       "      <td>Prof-specialty</td>\n",
       "      <td>Wife</td>\n",
       "      <td>Black</td>\n",
       "      <td>Female</td>\n",
       "      <td>0</td>\n",
       "      <td>0</td>\n",
       "      <td>40</td>\n",
       "      <td>Cuba</td>\n",
       "      <td>30493.0</td>\n",
       "    </tr>\n",
       "  </tbody>\n",
       "</table>\n",
       "</div>"
      ],
      "text/plain": [
       "   Age         Workclass  fnlwgt  Education  Education-Num  \\\n",
       "0   39         State-gov   77516  Bachelors             13   \n",
       "1   50  Self-emp-not-inc   83311  Bachelors             13   \n",
       "2   38           Private  215646    HS-grad              9   \n",
       "3   53           Private  234721       11th              7   \n",
       "4   28           Private  338409  Bachelors             13   \n",
       "\n",
       "       Martial Status         Occupation   Relationship   Race     Sex  \\\n",
       "0       Never-married       Adm-clerical  Not-in-family  White    Male   \n",
       "1  Married-civ-spouse    Exec-managerial        Husband  White    Male   \n",
       "2            Divorced  Handlers-cleaners  Not-in-family  White    Male   \n",
       "3  Married-civ-spouse  Handlers-cleaners        Husband  Black    Male   \n",
       "4  Married-civ-spouse     Prof-specialty           Wife  Black  Female   \n",
       "\n",
       "   Capital Gain  Capital Loss  Hours per week        Country   Income  \n",
       "0          2174             0              40  United-States  51806.0  \n",
       "1             0             0              13  United-States  68719.0  \n",
       "2             0             0              40  United-States  51255.0  \n",
       "3             0             0              40  United-States  47398.0  \n",
       "4             0             0              40           Cuba  30493.0  "
      ]
     },
     "execution_count": 441,
     "metadata": {},
     "output_type": "execute_result"
    }
   ],
   "source": [
    "import pandas as pd\n",
    "import numpy as np\n",
    "\n",
    "%matplotlib inline\n",
    "import matplotlib.pyplot as plt\n",
    "\n",
    "# read the data and set the datetime as the index\n",
    "import zipfile\n",
    "with zipfile.ZipFile('../datasets/income.csv.zip', 'r') as z:\n",
    "    f = z.open('income.csv')\n",
    "    income = pd.read_csv(f, index_col=0)\n",
    "\n",
    "income.head()"
   ]
  },
  {
   "cell_type": "code",
   "execution_count": 442,
   "metadata": {},
   "outputs": [
    {
     "data": {
      "text/plain": [
       "Index(['Age', 'Workclass', 'fnlwgt', 'Education', 'Education-Num',\n",
       "       'Martial Status', 'Occupation', 'Relationship', 'Race', 'Sex',\n",
       "       'Capital Gain', 'Capital Loss', 'Hours per week', 'Country', 'Income'],\n",
       "      dtype='object')"
      ]
     },
     "execution_count": 442,
     "metadata": {},
     "output_type": "execute_result"
    }
   ],
   "source": [
    "income.columns"
   ]
  },
  {
   "cell_type": "code",
   "execution_count": 443,
   "metadata": {},
   "outputs": [
    {
     "data": {
      "text/plain": [
       "(32561, 15)"
      ]
     },
     "execution_count": 443,
     "metadata": {},
     "output_type": "execute_result"
    }
   ],
   "source": [
    "income.shape"
   ]
  },
  {
   "cell_type": "markdown",
   "metadata": {},
   "source": [
    "# Exercise 2.1 \n",
    "\n",
    "What is the relation between the age and Income?\n",
    "\n",
    "For a one percent increase in the Age how much the income increases?\n",
    "\n",
    "Using sklearn estimate a linear regression and predict the income when the Age is 30 and 40 years"
   ]
  },
  {
   "cell_type": "code",
   "execution_count": 444,
   "metadata": {},
   "outputs": [
    {
     "data": {
      "text/plain": [
       "<matplotlib.axes._subplots.AxesSubplot at 0x1b7cefef978>"
      ]
     },
     "execution_count": 444,
     "metadata": {},
     "output_type": "execute_result"
    },
    {
     "data": {
      "image/png": "[encoded data removed]",
      "text/plain": [
       "<Figure size 432x288 with 1 Axes>"
      ]
     },
     "metadata": {},
     "output_type": "display_data"
    }
   ],
   "source": [
    "income.plot(x='Age', y='Income', kind='scatter')"
   ]
  },
  {
   "cell_type": "code",
   "execution_count": 445,
   "metadata": {},
   "outputs": [],
   "source": [
    "# import\n",
    "from sklearn.linear_model import LinearRegression\n",
    "from sklearn.metrics import mean_squared_error"
   ]
  },
  {
   "cell_type": "code",
   "execution_count": 446,
   "metadata": {},
   "outputs": [],
   "source": [
    "# Initialize\n",
    "clf = LinearRegression()"
   ]
  },
  {
   "cell_type": "code",
   "execution_count": 447,
   "metadata": {},
   "outputs": [
    {
     "data": {
      "text/plain": [
       "(32561, 2)"
      ]
     },
     "execution_count": 447,
     "metadata": {},
     "output_type": "execute_result"
    }
   ],
   "source": [
    "#Dimensión del dataframe\n",
    "income2.shape"
   ]
  },
  {
   "cell_type": "code",
   "execution_count": 448,
   "metadata": {},
   "outputs": [],
   "source": [
    "income2=income[['Age','Income']]\n",
    "a=np.array(income2,dtype=int)"
   ]
  },
  {
   "cell_type": "code",
   "execution_count": 449,
   "metadata": {},
   "outputs": [],
   "source": [
    "x=a[:,0]\n",
    "y=a[:,1]"
   ]
  },
  {
   "cell_type": "code",
   "execution_count": 450,
   "metadata": {},
   "outputs": [],
   "source": [
    "# train/test split\n",
    "from sklearn.model_selection import train_test_split\n",
    "X_train, X_test, y_train, y_test = train_test_split(x, y, random_state=1)"
   ]
  },
  {
   "cell_type": "code",
   "execution_count": 451,
   "metadata": {},
   "outputs": [
    {
     "data": {
      "text/plain": [
       "[<matplotlib.lines.Line2D at 0x1b7c6c90eb8>]"
      ]
     },
     "execution_count": 451,
     "metadata": {},
     "output_type": "execute_result"
    },
    {
     "data": {
      "image/png": "[encoded data removed]",
      "text/plain": [
       "<Figure size 432x288 with 1 Axes>"
      ]
     },
     "metadata": {},
     "output_type": "display_data"
    }
   ],
   "source": [
    "plt.scatter(x.ravel(), y)\n",
    "plt.plot(X_test.ravel(), y_new,c='r')"
   ]
  },
  {
   "cell_type": "code",
   "execution_count": 452,
   "metadata": {},
   "outputs": [
    {
     "name": "stdout",
     "output_type": "stream",
     "text": [
      "[543.88698099]\n",
      "32654.446384156312\n"
     ]
    }
   ],
   "source": [
    "clf.fit(X_train[:, None], y_train)\n",
    "y_new = clf.predict(X_test[:, None])\n",
    "\n",
    "print(clf.coef_)\n",
    "print(clf.intercept_)"
   ]
  },
  {
   "cell_type": "markdown",
   "metadata": {},
   "source": [
    "$$y=32654.446384156312\\beta_0 +543.88698099 \\beta_1$$"
   ]
  },
  {
   "cell_type": "markdown",
   "metadata": {},
   "source": [
    "La dirección de la Edad y el Ingreso es directamente proporcional. Es decir, un aumento en edad en nuestro modelo representa un aumento en ingreso.\n",
    "Asumiento que la unidad de ingreso son dólares, un uno por ciento de aumento en la edad representa un aumento de USD 5.43 dólares conforme al cálculo que se muestra a continuación."
   ]
  },
  {
   "cell_type": "code",
   "execution_count": 453,
   "metadata": {},
   "outputs": [
    {
     "data": {
      "text/plain": [
       "5.438869809899188"
      ]
     },
     "execution_count": 453,
     "metadata": {},
     "output_type": "execute_result"
    }
   ],
   "source": [
    "(32654.446384156312+543.88698099*0.01)-32654.446384156312"
   ]
  },
  {
   "cell_type": "markdown",
   "metadata": {},
   "source": [
    "El ingreso de una persona de 30 años es de USD 48.971 de acuerdo a este modelo."
   ]
  },
  {
   "cell_type": "code",
   "execution_count": 454,
   "metadata": {},
   "outputs": [
    {
     "data": {
      "text/plain": [
       "48971.055813856314"
      ]
     },
     "execution_count": 454,
     "metadata": {},
     "output_type": "execute_result"
    }
   ],
   "source": [
    "32654.446384156312+543.88698099*30"
   ]
  },
  {
   "cell_type": "markdown",
   "metadata": {},
   "source": [
    "El ingreso de una persona de 40 años es de USD 54.409 de acuerdo a este modelo."
   ]
  },
  {
   "cell_type": "code",
   "execution_count": 455,
   "metadata": {},
   "outputs": [
    {
     "data": {
      "text/plain": [
       "54409.92562375631"
      ]
     },
     "execution_count": 455,
     "metadata": {},
     "output_type": "execute_result"
    }
   ],
   "source": [
    "32654.446384156312+543.88698099*40"
   ]
  },
  {
   "cell_type": "markdown",
   "metadata": {},
   "source": [
    "# Exercise 2.2\n",
    "Evaluate the model using the MSE"
   ]
  },
  {
   "cell_type": "code",
   "execution_count": 456,
   "metadata": {},
   "outputs": [
    {
     "name": "stdout",
     "output_type": "stream",
     "text": [
      "MAE: 18877.15360437185\n",
      "MSE: 584771569.6943127\n",
      "RMSE: 24182.05056843428\n"
     ]
    }
   ],
   "source": [
    "from sklearn import metrics\n",
    "import numpy as np\n",
    "print('MAE:', metrics.mean_absolute_error(y_test, y_new))\n",
    "print('MSE:', metrics.mean_squared_error(y_test, y_new))\n",
    "print('RMSE:', np.sqrt(metrics.mean_squared_error(y_test, y_new)))"
   ]
  },
  {
   "cell_type": "markdown",
   "metadata": {},
   "source": [
    "Si tenemos en consideración que el RMSE se muestra en las unidades de la variable de respuesta que en este caso asumimos son dólares, USD 24.182,05 podría ser considerado como un error bastante grande, razón por la que este modelo no pareciera ser lo suficientemente bueno. "
   ]
  },
  {
   "cell_type": "markdown",
   "metadata": {},
   "source": [
    "\n",
    "# Exercise 2.3\n",
    "\n",
    "Run a regression model using as features the Age and Age$^2$ using the OLS equations"
   ]
  },
  {
   "cell_type": "code",
   "execution_count": 458,
   "metadata": {},
   "outputs": [],
   "source": [
    "income3 = pd.DataFrame(income2, columns=['Age', 'Age^2','Income'])\n",
    "income3['Age^2']=income3['Age']*income3['Age']"
   ]
  },
  {
   "cell_type": "code",
   "execution_count": 459,
   "metadata": {},
   "outputs": [],
   "source": [
    "x=income3[['Age', 'Age^2']]\n",
    "y=income3['Income']"
   ]
  },
  {
   "cell_type": "code",
   "execution_count": 460,
   "metadata": {},
   "outputs": [],
   "source": [
    "x=np.array(x,dtype=int)\n",
    "y=np.array(y,dtype=int)"
   ]
  },
  {
   "cell_type": "markdown",
   "metadata": {},
   "source": [
    "### Using OLS"
   ]
  },
  {
   "cell_type": "code",
   "execution_count": 461,
   "metadata": {},
   "outputs": [],
   "source": [
    "# train/test split\n",
    "from sklearn.model_selection import train_test_split\n",
    "X_train, X_test, y_train, y_test = train_test_split(x, y, random_state=1)"
   ]
  },
  {
   "cell_type": "code",
   "execution_count": 462,
   "metadata": {},
   "outputs": [],
   "source": [
    "# Initialize\n",
    "linreg = LinearRegression(fit_intercept=False)"
   ]
  },
  {
   "cell_type": "code",
   "execution_count": 463,
   "metadata": {},
   "outputs": [
    {
     "data": {
      "text/plain": [
       "LinearRegression(copy_X=True, fit_intercept=False, n_jobs=1, normalize=False)"
      ]
     },
     "execution_count": 463,
     "metadata": {},
     "output_type": "execute_result"
    }
   ],
   "source": [
    "# Fit\n",
    "linreg.fit(X_train, y_train)"
   ]
  },
  {
   "cell_type": "code",
   "execution_count": 464,
   "metadata": {},
   "outputs": [
    {
     "data": {
      "text/plain": [
       "array([2353.59726556,  -22.02285828])"
      ]
     },
     "execution_count": 464,
     "metadata": {},
     "output_type": "execute_result"
    }
   ],
   "source": [
    "linreg.coef_"
   ]
  },
  {
   "cell_type": "code",
   "execution_count": 465,
   "metadata": {},
   "outputs": [],
   "source": [
    "X_test= pd.DataFrame(X_test)\n",
    "X_test.columns = ['Age', 'Age^2']"
   ]
  },
  {
   "cell_type": "code",
   "execution_count": 466,
   "metadata": {},
   "outputs": [],
   "source": [
    "y_pred = linreg.predict(X_test[['Age', 'Age^2']])"
   ]
  },
  {
   "cell_type": "code",
   "execution_count": 467,
   "metadata": {},
   "outputs": [
    {
     "name": "stdout",
     "output_type": "stream",
     "text": [
      "MAE: 18446.990943705503\n",
      "MSE: 542868294.851489\n",
      "RMSE: 23299.53421962527\n"
     ]
    }
   ],
   "source": [
    "from sklearn import metrics\n",
    "import numpy as np\n",
    "print('MAE:', metrics.mean_absolute_error(y_test, y_pred))\n",
    "print('MSE:', metrics.mean_squared_error(y_test, y_pred))\n",
    "print('RMSE:', np.sqrt(metrics.mean_squared_error(y_test, y_pred)))"
   ]
  },
  {
   "cell_type": "markdown",
   "metadata": {},
   "source": [
    "### Using Gradient Descent"
   ]
  },
  {
   "cell_type": "code",
   "execution_count": 554,
   "metadata": {},
   "outputs": [],
   "source": [
    "# import\n",
    "from sklearn.linear_model import SGDRegressor"
   ]
  },
  {
   "cell_type": "code",
   "execution_count": 555,
   "metadata": {},
   "outputs": [
    {
     "data": {
      "text/plain": [
       "Text(0,0.5,'Income')"
      ]
     },
     "execution_count": 555,
     "metadata": {},
     "output_type": "execute_result"
    },
    {
     "data": {
      "image/png": "[encoded data removed]",
      "text/plain": [
       "<Figure size 432x288 with 1 Axes>"
      ]
     },
     "metadata": {},
     "output_type": "display_data"
    }
   ],
   "source": [
    "x1 = income3['Age'].values\n",
    "y1=income3['Income']\n",
    "\n",
    "#Normalizando la data\n",
    "y_mean, y_std = y1.mean(), y1.std()\n",
    "X_mean, X_std = x1.mean(), x1.std()\n",
    "\n",
    "#Estas son las x y la 'y' normalizada que es la base del modelo.\n",
    "y = (y1 - y_mean)/ y_std\n",
    "X = (x1 - X_mean)/ X_std\n",
    "\n",
    "plt.scatter(X, y)\n",
    "plt.xlabel('Age')\n",
    "plt.ylabel('Income')\n"
   ]
  },
  {
   "cell_type": "code",
   "execution_count": 556,
   "metadata": {},
   "outputs": [],
   "source": [
    "# create X and y\n",
    "n_samples = X.shape[0]\n",
    "X_ = np.c_[np.ones(n_samples), X]"
   ]
  },
  {
   "cell_type": "code",
   "execution_count": 557,
   "metadata": {},
   "outputs": [
    {
     "data": {
      "text/plain": [
       "array([[  39, 1521],\n",
       "       [  50, 2500],\n",
       "       [  38, 1444],\n",
       "       [  53, 2809],\n",
       "       [  28,  784]], dtype=int64)"
      ]
     },
     "execution_count": 557,
     "metadata": {},
     "output_type": "execute_result"
    }
   ],
   "source": [
    "X=income3[['Age', 'Age^2']].values\n",
    "X[0:5]"
   ]
  },
  {
   "cell_type": "code",
   "execution_count": 558,
   "metadata": {},
   "outputs": [
    {
     "data": {
      "text/plain": [
       "array([[ 0.03067056, -0.13027593],\n",
       "       [ 0.83710898,  0.70006807],\n",
       "       [-0.04264203, -0.19558388],\n",
       "       [ 1.05704673,  0.96214804],\n",
       "       [-0.77576787, -0.75536635]])"
      ]
     },
     "execution_count": 558,
     "metadata": {},
     "output_type": "execute_result"
    }
   ],
   "source": [
    "from sklearn.preprocessing import StandardScaler\n",
    "ss = StandardScaler(with_mean=True, with_std=True)\n",
    "ss.fit(X.astype(np.float))#ss.fit=Compute the mean and standard deviation to be used for later scaling. astype= copy of the array to a pecified type\n",
    "X = ss.transform(X.astype(np.float))#ss.transform=Perfom standardization by centering and scaling\n",
    "ss.mean_, ss.scale_\n",
    "X[0:5]"
   ]
  },
  {
   "cell_type": "code",
   "execution_count": 559,
   "metadata": {},
   "outputs": [
    {
     "data": {
      "text/plain": [
       "array([[ 1.        ,  0.03067056, -0.13027593],\n",
       "       [ 1.        ,  0.83710898,  0.70006807],\n",
       "       [ 1.        , -0.04264203, -0.19558388],\n",
       "       [ 1.        ,  1.05704673,  0.96214804],\n",
       "       [ 1.        , -0.77576787, -0.75536635]])"
      ]
     },
     "execution_count": 559,
     "metadata": {},
     "output_type": "execute_result"
    }
   ],
   "source": [
    "X_ = np.c_[np.ones(n_samples), X]\n",
    "X_[0:5]"
   ]
  },
  {
   "cell_type": "code",
   "execution_count": 560,
   "metadata": {},
   "outputs": [],
   "source": [
    "# Initialize\n",
    "linreg2 = SGDRegressor(max_iter=10000)"
   ]
  },
  {
   "cell_type": "code",
   "execution_count": 561,
   "metadata": {},
   "outputs": [],
   "source": [
    "# train/test split\n",
    "from sklearn.model_selection import train_test_split\n",
    "X_train, X_test, y_train, y_test = train_test_split(X, y, random_state=1)"
   ]
  },
  {
   "cell_type": "code",
   "execution_count": 564,
   "metadata": {},
   "outputs": [
    {
     "data": {
      "text/plain": [
       "SGDRegressor(alpha=0.0001, average=False, epsilon=0.1, eta0=0.01,\n",
       "       fit_intercept=True, l1_ratio=0.15, learning_rate='invscaling',\n",
       "       loss='squared_loss', max_iter=10000, n_iter=None, penalty='l2',\n",
       "       power_t=0.25, random_state=None, shuffle=True, tol=None, verbose=0,\n",
       "       warm_start=False)"
      ]
     },
     "execution_count": 564,
     "metadata": {},
     "output_type": "execute_result"
    }
   ],
   "source": [
    "# Fit\n",
    "linreg2.fit(X_train, y_train)"
   ]
  },
  {
   "cell_type": "code",
   "execution_count": 565,
   "metadata": {},
   "outputs": [
    {
     "data": {
      "text/plain": [
       "array([ 1.67612432, -1.412231  ])"
      ]
     },
     "execution_count": 565,
     "metadata": {},
     "output_type": "execute_result"
    }
   ],
   "source": [
    "linreg2.coef_"
   ]
  },
  {
   "cell_type": "code",
   "execution_count": 524,
   "metadata": {},
   "outputs": [
    {
     "data": {
      "text/plain": [
       "array([[ 1.71685999,  1.83998874],\n",
       "       [-1.5088937 , -1.14551777],\n",
       "       [-0.99570562, -0.89022304],\n",
       "       ...,\n",
       "       [-0.77576787, -0.75536635],\n",
       "       [ 0.47054606,  0.29719432],\n",
       "       [-1.43558112, -1.11413603]])"
      ]
     },
     "execution_count": 524,
     "metadata": {},
     "output_type": "execute_result"
    }
   ],
   "source": [
    "X_test"
   ]
  },
  {
   "cell_type": "code",
   "execution_count": 566,
   "metadata": {},
   "outputs": [
    {
     "data": {
      "text/plain": [
       "array([60733.03564386, 30415.3192057 , 43138.71050691, ...,\n",
       "       47676.52088332, 63019.96810491, 32415.96085641])"
      ]
     },
     "execution_count": 566,
     "metadata": {},
     "output_type": "execute_result"
    }
   ],
   "source": [
    "y_pred2= linreg2.predict(X_test) * y_std + y_mean\n",
    "y_pred2"
   ]
  },
  {
   "cell_type": "code",
   "execution_count": 500,
   "metadata": {},
   "outputs": [
    {
     "name": "stdout",
     "output_type": "stream",
     "text": [
      "MAE: 53584.52427476087\n",
      "MSE: 2973648922.3348045\n",
      "RMSE: 54531.17385803101\n"
     ]
    }
   ],
   "source": [
    "from sklearn import metrics\n",
    "import numpy as np\n",
    "print('MAE:', metrics.mean_absolute_error(y_test, y_pred2))\n",
    "print('MSE:', metrics.mean_squared_error(y_test, y_pred2))\n",
    "print('RMSE:', np.sqrt(metrics.mean_squared_error(y_test, y_pred2)))"
   ]
  },
  {
   "cell_type": "markdown",
   "metadata": {},
   "source": [
    "# Exercise 2.4\n",
    "\n",
    "Estimate a regression using more features.\n",
    "\n",
    "How is the performance compared to using only the Age?"
   ]
  },
  {
   "cell_type": "code",
   "execution_count": 585,
   "metadata": {},
   "outputs": [],
   "source": [
    "x=income[['Age','fnlwgt','Education-Num','Hours per week']]\n",
    "y=income['Income']"
   ]
  },
  {
   "cell_type": "code",
   "execution_count": 586,
   "metadata": {},
   "outputs": [],
   "source": [
    "x=np.array(x,dtype=int)\n",
    "y=np.array(y,dtype=int)"
   ]
  },
  {
   "cell_type": "markdown",
   "metadata": {},
   "source": [
    "### Using OLS"
   ]
  },
  {
   "cell_type": "code",
   "execution_count": 587,
   "metadata": {},
   "outputs": [],
   "source": [
    "X_train, X_test, y_train, y_test = train_test_split(x, y, random_state=1)"
   ]
  },
  {
   "cell_type": "code",
   "execution_count": 588,
   "metadata": {},
   "outputs": [],
   "source": [
    "X_test= pd.DataFrame(X_test)\n",
    "X_test.columns = ['Age','fnlwgt','Education-Num','Hours per week']"
   ]
  },
  {
   "cell_type": "code",
   "execution_count": 589,
   "metadata": {},
   "outputs": [],
   "source": [
    "# Initialize\n",
    "linreg3 = LinearRegression(fit_intercept=False)"
   ]
  },
  {
   "cell_type": "code",
   "execution_count": 590,
   "metadata": {},
   "outputs": [
    {
     "data": {
      "text/plain": [
       "LinearRegression(copy_X=True, fit_intercept=False, n_jobs=1, normalize=False)"
      ]
     },
     "execution_count": 590,
     "metadata": {},
     "output_type": "execute_result"
    }
   ],
   "source": [
    "# Fit\n",
    "linreg3.fit(X_test, y_test)"
   ]
  },
  {
   "cell_type": "code",
   "execution_count": 591,
   "metadata": {},
   "outputs": [
    {
     "data": {
      "text/plain": [
       "array([ 3.70306186e+02, -9.75193080e-03,  2.99794876e+03,  2.71126493e+02])"
      ]
     },
     "execution_count": 591,
     "metadata": {},
     "output_type": "execute_result"
    }
   ],
   "source": [
    "linreg3.coef_"
   ]
  },
  {
   "cell_type": "code",
   "execution_count": 592,
   "metadata": {},
   "outputs": [],
   "source": [
    "y_pred3= linreg3.predict(X_test[['Age','fnlwgt','Education-Num','Hours per week']])"
   ]
  },
  {
   "cell_type": "code",
   "execution_count": 593,
   "metadata": {},
   "outputs": [
    {
     "name": "stdout",
     "output_type": "stream",
     "text": [
      "MAE: 16917.96283026982\n",
      "MSE: 463421704.8707638\n",
      "RMSE: 21527.231704767888\n"
     ]
    }
   ],
   "source": [
    "from sklearn import metrics\n",
    "import numpy as np\n",
    "print('MAE:', metrics.mean_absolute_error(y_test, y_pred3))\n",
    "print('MSE:', metrics.mean_squared_error(y_test, y_pred3))\n",
    "print('RMSE:', np.sqrt(metrics.mean_squared_error(y_test, y_pred3)))"
   ]
  },
  {
   "cell_type": "markdown",
   "metadata": {},
   "source": [
    "Si comparamos el resultado obtenido con este mismo tipo de regresión utilizando sólo la Edad que fueron los siguientes\n",
    "\n",
    "MAE: 18446.990943705503\n",
    "MSE: 542868294.851489\n",
    "RMSE: 23299.53421962527\n",
    "\n",
    "el resultado mejoró un poco. Sin embargo, claramente el mejor acercamiento sería hacer un Cross-Validation para poder calcular la variación de los resultados y con esto poder determinar cuál es el mejor modelo."
   ]
  },
  {
   "cell_type": "markdown",
   "metadata": {},
   "source": [
    "### Using Gradient Descent"
   ]
  },
  {
   "cell_type": "code",
   "execution_count": 594,
   "metadata": {},
   "outputs": [],
   "source": [
    "# Initialize\n",
    "linreg4 = SGDRegressor(max_iter=10000)"
   ]
  },
  {
   "cell_type": "code",
   "execution_count": 595,
   "metadata": {},
   "outputs": [],
   "source": [
    "x1 = income[['Age','fnlwgt','Education-Num','Hours per week']].values\n",
    "y1=y\n",
    "\n",
    "#Normalizando la data\n",
    "y_mean, y_std = y1.mean(), y1.std()\n",
    "X_mean, X_std = x1.mean(), x1.std()\n",
    "\n",
    "#Estas son las x y la 'y' normalizada que es la base del modelo.\n",
    "y = (y1 - y_mean)/ y_std\n",
    "X = (x1 - X_mean)/ X_std"
   ]
  },
  {
   "cell_type": "code",
   "execution_count": 596,
   "metadata": {},
   "outputs": [
    {
     "data": {
      "text/plain": [
       "array([[    39,  77516,     13,     40],\n",
       "       [    50,  83311,     13,     13],\n",
       "       [    38, 215646,      9,     40],\n",
       "       [    53, 234721,      7,     40],\n",
       "       [    28, 338409,     13,     40]], dtype=int64)"
      ]
     },
     "execution_count": 596,
     "metadata": {},
     "output_type": "execute_result"
    }
   ],
   "source": [
    "X=income[['Age','fnlwgt','Education-Num','Hours per week']].values\n",
    "X[0:5]"
   ]
  },
  {
   "cell_type": "code",
   "execution_count": 597,
   "metadata": {},
   "outputs": [
    {
     "data": {
      "text/plain": [
       "array([[ 0.03067056, -1.06361075,  1.13473876, -0.03542945],\n",
       "       [ 0.83710898, -1.008707  ,  1.13473876, -2.22215312],\n",
       "       [-0.04264203,  0.2450785 , -0.42005962, -0.03542945],\n",
       "       [ 1.05704673,  0.42580136, -1.19745882, -0.03542945],\n",
       "       [-0.77576787,  1.40817572,  1.13473876, -0.03542945]])"
      ]
     },
     "execution_count": 597,
     "metadata": {},
     "output_type": "execute_result"
    }
   ],
   "source": [
    "from sklearn.preprocessing import StandardScaler\n",
    "ss = StandardScaler(with_mean=True, with_std=True)\n",
    "ss.fit(X.astype(np.float))#ss.fit=Compute the mean and standard deviation to be used for later scaling. astype= copy of the array to a pecified type\n",
    "X = ss.transform(X.astype(np.float))#ss.transform=Perfom standardization by centering and scaling\n",
    "ss.mean_, ss.scale_\n",
    "X[0:5]"
   ]
  },
  {
   "cell_type": "code",
   "execution_count": 598,
   "metadata": {},
   "outputs": [],
   "source": [
    "# create X and y\n",
    "n_samples = X.shape[0]\n",
    "X_ = np.c_[np.ones(n_samples), X]"
   ]
  },
  {
   "cell_type": "code",
   "execution_count": 599,
   "metadata": {},
   "outputs": [],
   "source": [
    "# train/test split\n",
    "from sklearn.model_selection import train_test_split\n",
    "X_train, X_test, y_train, y_test = train_test_split(X, y, random_state=1)"
   ]
  },
  {
   "cell_type": "code",
   "execution_count": 600,
   "metadata": {},
   "outputs": [
    {
     "data": {
      "text/plain": [
       "SGDRegressor(alpha=0.0001, average=False, epsilon=0.1, eta0=0.01,\n",
       "       fit_intercept=True, l1_ratio=0.15, learning_rate='invscaling',\n",
       "       loss='squared_loss', max_iter=10000, n_iter=None, penalty='l2',\n",
       "       power_t=0.25, random_state=None, shuffle=True, tol=None, verbose=0,\n",
       "       warm_start=False)"
      ]
     },
     "execution_count": 600,
     "metadata": {},
     "output_type": "execute_result"
    }
   ],
   "source": [
    "# Fit\n",
    "linreg4.fit(X_test, y_test)"
   ]
  },
  {
   "cell_type": "code",
   "execution_count": 601,
   "metadata": {},
   "outputs": [
    {
     "data": {
      "text/plain": [
       "array([[ 1.71685999, -1.54305923, -2.36355761,  2.07030446],\n",
       "       [-1.5088937 ,  0.17361363, -1.19745882, -1.25027593],\n",
       "       [-0.99570562, -0.82713146,  1.13473876,  0.77446821],\n",
       "       ...,\n",
       "       [-0.77576787, -0.78203365, -0.80875922, -0.03542945],\n",
       "       [ 0.47054606, -0.03131613, -0.42005962, -0.03542945],\n",
       "       [-1.43558112,  1.22260201, -0.03136003, -0.03542945]])"
      ]
     },
     "execution_count": 601,
     "metadata": {},
     "output_type": "execute_result"
    }
   ],
   "source": [
    "X_test"
   ]
  },
  {
   "cell_type": "code",
   "execution_count": 602,
   "metadata": {},
   "outputs": [
    {
     "data": {
      "text/plain": [
       "array([0.26113921, 0.01260378, 0.38943395, 0.19365691])"
      ]
     },
     "execution_count": 602,
     "metadata": {},
     "output_type": "execute_result"
    }
   ],
   "source": [
    "linreg4.coef_"
   ]
  },
  {
   "cell_type": "code",
   "execution_count": 603,
   "metadata": {},
   "outputs": [
    {
     "data": {
      "text/plain": [
       "array([50743.40540093, 25032.04211091, 61236.92484246, ...,\n",
       "       39446.31337452, 51829.91209943, 43411.45252925])"
      ]
     },
     "execution_count": 603,
     "metadata": {},
     "output_type": "execute_result"
    }
   ],
   "source": [
    "y_pred4= linreg4.predict(X_test) * y_std + y_mean\n",
    "y_pred4"
   ]
  },
  {
   "cell_type": "code",
   "execution_count": 604,
   "metadata": {},
   "outputs": [
    {
     "name": "stdout",
     "output_type": "stream",
     "text": [
      "MAE: 52857.54278933703\n",
      "MSE: 2982221847.7405214\n",
      "RMSE: 54609.72301468413\n"
     ]
    }
   ],
   "source": [
    "from sklearn import metrics\n",
    "import numpy as np\n",
    "print('MAE:', metrics.mean_absolute_error(y_test, y_pred4))\n",
    "print('MSE:', metrics.mean_squared_error(y_test, y_pred4))\n",
    "print('RMSE:', np.sqrt(metrics.mean_squared_error(y_test, y_pred4)))"
   ]
  },
  {
   "cell_type": "markdown",
   "metadata": {},
   "source": [
    "Si comparamos los resultados de este modelo, con los resultados del primer modelo en el que sólo habíamos utilizado la variable edad, podemos observar que en realid el error no mejoró, sino todo lo contrario, el error incluso se duplicó. Se adjuntan los errores del primer modelo  para su comparación.\n",
    "\n",
    "MAE: 18877.15360437185\n",
    "MSE: 584771569.6943127\n",
    "RMSE: 24182.05056843428\n",
    "\n",
    "Sin embargo,hay que tener en cuenta que estos dos últimos modelos que incluyeron más variables, se corrieron exclusivamente con las variables numéricas. Lo anterior debido a que el ejercicio no contemplaba el buscar un mejor modelo.  No obstante, como podemos observar, probablemente estas variables no son las que aportan más a la explicación del comportamiento de la variable de respuesta. Lo que se puede intuir es que el mejor modelo será una mezcla de variables numéricas y las variables categóricas que dejamos de incluir. Para poder mezclar ambos tipos de variables, debemos incluir las variables categóricas como dummies que es lo que se hará en el ejercicio siguiente para correr una regresión logística. "
   ]
  },
  {
   "cell_type": "markdown",
   "metadata": {},
   "source": [
    "# Exercise 2.5\n",
    "\n",
    "\n",
    "Estimate a logistic regression to predict if a person is in the United States.\n",
    "\n",
    "What is the performance of the model"
   ]
  },
  {
   "cell_type": "markdown",
   "metadata": {},
   "source": [
    "## Logistic Regression"
   ]
  },
  {
   "cell_type": "code",
   "execution_count": 538,
   "metadata": {},
   "outputs": [
    {
     "data": {
      "text/plain": [
       "1.0    29170\n",
       "0.0     3391\n",
       "Name: UnitedStates, dtype: int64"
      ]
     },
     "execution_count": 538,
     "metadata": {},
     "output_type": "execute_result"
    }
   ],
   "source": [
    "income5 = pd.DataFrame(income, columns=['Age', 'Workclass', 'fnlwgt', 'Education', 'Education-Num','Martial Status','Occupation','Relationship','Race','Sex','Capital Gain', 'Capital Loss', 'Hours per week', 'Country', 'Income','UnitedStates'])\n",
    "income5['UnitedStates']=(income['Country'] == 'United-States')*1.0\n",
    "income5['UnitedStates'].value_counts()"
   ]
  },
  {
   "cell_type": "code",
   "execution_count": 539,
   "metadata": {},
   "outputs": [],
   "source": [
    "cat_vars_Workclass= pd.DataFrame(pd.get_dummies(income5['Workclass']))\n",
    "cat_vars_Education=pd.DataFrame(pd.get_dummies(income5['Education']))\n",
    "cat_vars_Martial_Status=pd.DataFrame(pd.get_dummies(income5['Martial Status']))\n",
    "cat_vars_Occupation=pd.DataFrame(pd.get_dummies(income5['Occupation']))\n",
    "cat_vars_Sex=pd.DataFrame(pd.get_dummies(income5['Sex']))\n",
    "cat_vars_Race=pd.DataFrame(pd.get_dummies(income5['Race']))\n",
    "cat_vars_Relationship=pd.DataFrame(pd.get_dummies(income5['Relationship']))"
   ]
  },
  {
   "cell_type": "code",
   "execution_count": 540,
   "metadata": {
    "scrolled": true
   },
   "outputs": [
    {
     "data": {
      "text/plain": [
       "Index(['Age', 'fnlwgt', 'Education-Num', 'Hours per week', 'Income',\n",
       "       'UnitedStates', 'Federal-gov', 'Local-gov', 'Never-worked', 'Private',\n",
       "       'Self-emp-inc', 'Self-emp-not-inc', 'State-gov', 'Without-pay', '10th',\n",
       "       '11th', '12th', '1st-4th', '5th-6th', '7th-8th', '9th', 'Assoc-acdm',\n",
       "       'Assoc-voc', 'Bachelors', 'Doctorate', 'HS-grad', 'Masters',\n",
       "       'Preschool', 'Prof-school', 'Some-college', 'Divorced',\n",
       "       'Married-AF-spouse', 'Married-civ-spouse', 'Married-spouse-absent',\n",
       "       'Never-married', 'Separated', 'Widowed', 'Adm-clerical', 'Armed-Forces',\n",
       "       'Craft-repair', 'Exec-managerial', 'Farming-fishing',\n",
       "       'Handlers-cleaners', 'Machine-op-inspct', 'Other-service',\n",
       "       'Priv-house-serv', 'Prof-specialty', 'Protective-serv', 'Sales',\n",
       "       'Tech-support', 'Transport-moving', 'Female', 'Male',\n",
       "       'Amer-Indian-Eskimo', 'Asian-Pac-Islander', 'Black', 'Other', 'White',\n",
       "       'Husband', 'Not-in-family', 'Other-relative', 'Own-child', 'Unmarried',\n",
       "       'Wife'],\n",
       "      dtype='object')"
      ]
     },
     "execution_count": 540,
     "metadata": {},
     "output_type": "execute_result"
    }
   ],
   "source": [
    "income_num = pd.DataFrame(income5, columns=['Age','fnlwgt','Education-Num', 'Hours per week','Income','UnitedStates'])\n",
    "income_total=pd.concat([income_num,cat_vars_Workclass,cat_vars_Education,cat_vars_Martial_Status,cat_vars_Occupation,cat_vars_Sex,cat_vars_Race,cat_vars_Relationship],axis=1)\n",
    "income_total.columns"
   ]
  },
  {
   "cell_type": "code",
   "execution_count": 541,
   "metadata": {},
   "outputs": [],
   "source": [
    "x= income_total[['Age', 'fnlwgt', 'Education-Num', 'Hours per week', 'Income',\n",
    "                'Federal-gov', 'Local-gov', 'Never-worked', 'Private',\n",
    "                'Self-emp-inc', 'Self-emp-not-inc', 'State-gov', 'Without-pay', '10th',\n",
    "                '11th', '12th', '1st-4th', '5th-6th', '7th-8th', '9th', 'Assoc-acdm',\n",
    "                'Assoc-voc', 'Bachelors', 'Doctorate', 'HS-grad', 'Masters',\n",
    "                'Preschool', 'Prof-school', 'Some-college', 'Divorced',\n",
    "                'Married-AF-spouse', 'Married-civ-spouse', 'Married-spouse-absent',\n",
    "                'Never-married', 'Separated', 'Widowed', 'Adm-clerical', 'Armed-Forces',\n",
    "                'Craft-repair', 'Exec-managerial', 'Farming-fishing',\n",
    "                'Handlers-cleaners', 'Machine-op-inspct', 'Other-service',\n",
    "                'Priv-house-serv', 'Prof-specialty', 'Protective-serv', 'Sales',\n",
    "                'Tech-support', 'Transport-moving', 'Female', 'Male',\n",
    "                'Amer-Indian-Eskimo', 'Asian-Pac-Islander', 'Black', 'Other', 'White',\n",
    "                'Husband', 'Not-in-family', 'Other-relative', 'Own-child', 'Unmarried','Wife']]\n",
    "y=income_total['UnitedStates']"
   ]
  },
  {
   "cell_type": "code",
   "execution_count": 542,
   "metadata": {},
   "outputs": [
    {
     "data": {
      "text/plain": [
       "(32561, 63)"
      ]
     },
     "execution_count": 542,
     "metadata": {},
     "output_type": "execute_result"
    }
   ],
   "source": [
    "x.shape"
   ]
  },
  {
   "cell_type": "code",
   "execution_count": 543,
   "metadata": {},
   "outputs": [
    {
     "name": "stdout",
     "output_type": "stream",
     "text": [
      "[False False False False False False False False False False False  True\n",
      " False False False  True  True  True  True  True False False False  True\n",
      " False False  True False False False  True False  True False False False\n",
      " False False False False False False False False  True False False False\n",
      " False  True False False  True  True  True  True  True False False  True\n",
      " False False False]\n",
      "[42 46 32 44 45  7  6 16 22 21 34  1  9 24 23  1  1  1  1  1 19 13 35  1\n",
      " 14 30  1 31 15  3  1 17  1 41 29  2 38  8 43 25 33 12 10  5  1 36 39 20\n",
      " 26  1 40 28  1  1  1  1  1 18 27  1  4 11 37]\n"
     ]
    }
   ],
   "source": [
    "#Escogiendo cuales son las variables que afectan al modelo.Todas las que tengan False no entran y las que tengan True si\n",
    "from sklearn import datasets\n",
    "from sklearn.feature_selection import RFE\n",
    "from sklearn.linear_model import LogisticRegression\n",
    "logreg = LogisticRegression()\n",
    "rfe = RFE(logreg, 18)\n",
    "rfe = rfe.fit(x, y)\n",
    "print(rfe.support_)\n",
    "print(rfe.ranking_)"
   ]
  },
  {
   "cell_type": "code",
   "execution_count": 546,
   "metadata": {},
   "outputs": [],
   "source": [
    "#Estas son las variables finalmente escogidas por el modelo\n",
    "x=income_total[['State-gov','12th', '1st-4th', '5th-6th', '7th-8th', '9th', 'Assoc-acdm','Doctorate', 'HS-grad', 'Masters',\n",
    "                'Preschool','Married-AF-spouse','Married-spouse-absent','Priv-house-serv', 'Prof-specialty', 'Protective-serv', 'Sales',\n",
    "                'Transport-moving','Amer-Indian-Eskimo', 'Asian-Pac-Islander', 'Black', 'Other', 'White','Other-relative']]"
   ]
  },
  {
   "cell_type": "code",
   "execution_count": 547,
   "metadata": {},
   "outputs": [],
   "source": [
    "# train/test split\n",
    "from sklearn.model_selection import train_test_split\n",
    "X_train, X_test, y_train, y_test = train_test_split(x, y, random_state=1)"
   ]
  },
  {
   "cell_type": "code",
   "execution_count": 548,
   "metadata": {},
   "outputs": [
    {
     "data": {
      "text/plain": [
       "LogisticRegression(C=1.0, class_weight=None, dual=False, fit_intercept=True,\n",
       "          intercept_scaling=1, max_iter=100, multi_class='ovr', n_jobs=1,\n",
       "          penalty='l2', random_state=None, solver='liblinear', tol=0.0001,\n",
       "          verbose=0, warm_start=False)"
      ]
     },
     "execution_count": 548,
     "metadata": {},
     "output_type": "execute_result"
    }
   ],
   "source": [
    "# fit a logistic regression model and store the class predictions\n",
    "from sklearn.linear_model import LogisticRegression\n",
    "logreg = LogisticRegression()\n",
    "logreg.fit(X_train, y_train)"
   ]
  },
  {
   "cell_type": "code",
   "execution_count": 549,
   "metadata": {},
   "outputs": [
    {
     "name": "stdout",
     "output_type": "stream",
     "text": [
      "Accuracy of logistic regression classifier on test set: 0.92\n"
     ]
    }
   ],
   "source": [
    "y_pred = logreg.predict(X_test)\n",
    "print('Accuracy of logistic regression classifier on test set: {:.2f}'.format(logreg.score(X_test, y_test)))"
   ]
  },
  {
   "cell_type": "code",
   "execution_count": 550,
   "metadata": {},
   "outputs": [
    {
     "name": "stdout",
     "output_type": "stream",
     "text": [
      "100-fold cross validation average accuracy: 0.918\n"
     ]
    }
   ],
   "source": [
    "#Cross Validation\n",
    "from sklearn import model_selection\n",
    "from sklearn.model_selection import cross_val_score\n",
    "kfold = model_selection.KFold(n_splits=100, random_state=7)\n",
    "modelCV = LogisticRegression()\n",
    "scoring = 'accuracy'\n",
    "results = model_selection.cross_val_score(modelCV, X_train, y_train, cv=kfold, scoring=scoring)\n",
    "print(\"100-fold cross validation average accuracy: %.3f\" % (results.mean()))"
   ]
  },
  {
   "cell_type": "code",
   "execution_count": 551,
   "metadata": {
    "scrolled": true
   },
   "outputs": [
    {
     "name": "stdout",
     "output_type": "stream",
     "text": [
      "[[ 281  569]\n",
      " [ 117 7174]]\n"
     ]
    }
   ],
   "source": [
    "#Confusion Matrix\n",
    "from sklearn.metrics import confusion_matrix\n",
    "confusion_matrix = confusion_matrix(y_test, y_pred)\n",
    "print(confusion_matrix)"
   ]
  },
  {
   "cell_type": "code",
   "execution_count": null,
   "metadata": {},
   "outputs": [],
   "source": [
    "#Conforme a los resultados de la matriz de confusión , 117 fueron predichos como si no fueran de Estados Unidos pero si lo eran\n",
    "# y 569 fueron predecidos como de Estados Unidos pero no lo eran."
   ]
  },
  {
   "cell_type": "code",
   "execution_count": null,
   "metadata": {},
   "outputs": [],
   "source": [
    "import statsmodels.api as sm\n",
    "logit_model=sm.Logit(y,X)\n",
    "result=logit_model.fit()\n",
    "print(result.summary())"
   ]
  },
  {
   "cell_type": "markdown",
   "metadata": {},
   "source": [
    "# Recall, Precision and F1-Score\n",
    "\n",
    "Intuitively, [precision](http://en.wikipedia.org/wiki/Precision_and_recall#Precision) is the ability\n",
    "of the classifier not to label as positive a sample that is negative, and\n",
    "[recall](http://en.wikipedia.org/wiki/Precision_and_recall#Recall) is the\n",
    "ability of the classifier to find all the positive samples.\n",
    "\n",
    "The  [F-measure](http://en.wikipedia.org/wiki/F1_score>)\n",
    "($F_\\beta$ and $F_1$ measures) can be interpreted as a weighted\n",
    "harmonic mean of the precision and recall. A\n",
    "$F_\\beta$ measure reaches its best value at 1 and its worst score at 0.\n",
    "With $\\beta = 1$,  $F_\\beta$ and\n",
    "$F_1$  are equivalent, and the recall and the precision are equally important."
   ]
  },
  {
   "cell_type": "code",
   "execution_count": 552,
   "metadata": {},
   "outputs": [
    {
     "name": "stdout",
     "output_type": "stream",
     "text": [
      "             precision    recall  f1-score   support\n",
      "\n",
      "        0.0       0.71      0.33      0.45       850\n",
      "        1.0       0.93      0.98      0.95      7291\n",
      "\n",
      "avg / total       0.90      0.92      0.90      8141\n",
      "\n"
     ]
    }
   ],
   "source": [
    "from sklearn.metrics import classification_report\n",
    "print(classification_report(y_test, y_pred))"
   ]
  },
  {
   "cell_type": "code",
   "execution_count": 553,
   "metadata": {},
   "outputs": [
    {
     "data": {
      "image/png": "[encoded data removed]",
      "text/plain": [
       "<Figure size 432x288 with 1 Axes>"
      ]
     },
     "metadata": {},
     "output_type": "display_data"
    }
   ],
   "source": [
    "from sklearn.metrics import roc_auc_score\n",
    "from sklearn.metrics import roc_curve\n",
    "logit_roc_auc = roc_auc_score(y_test, logreg.predict(X_test))\n",
    "fpr, tpr, thresholds = roc_curve(y_test, logreg.predict_proba(X_test)[:,1])\n",
    "plt.figure()\n",
    "plt.plot(fpr, tpr, label='Logistic Regression (area = %0.2f)' % logit_roc_auc)\n",
    "plt.plot([0, 1], [0, 1],'r--')\n",
    "plt.xlim([0.0, 1.0])\n",
    "plt.ylim([0.0, 1.05])\n",
    "plt.xlabel('False Positive Rate')\n",
    "plt.ylabel('True Positive Rate')\n",
    "plt.title('Receiver operating characteristic')\n",
    "plt.legend(loc=\"lower right\")\n",
    "plt.savefig('Log_ROC')\n",
    "plt.show()"
   ]
  },
  {
   "cell_type": "markdown",
   "metadata": {},
   "source": [
    "# Ejercicio Adicional\n"
   ]
  },
  {
   "cell_type": "markdown",
   "metadata": {},
   "source": [
    "Sólo para correr un mejor modelo para el Ejercicio 2.4, ahora podemos utilizar el dataframe de income total resultante de este último ejercicio para correr una regresión lineal y ver si con esto obtenemos un mejor modelo."
   ]
  },
  {
   "cell_type": "code",
   "execution_count": 608,
   "metadata": {},
   "outputs": [],
   "source": [
    "x= income_total[['Age', 'fnlwgt', 'Education-Num', 'Hours per week',\n",
    "                'Federal-gov', 'Local-gov', 'Never-worked', 'Private',\n",
    "                'Self-emp-inc', 'Self-emp-not-inc', 'State-gov', 'Without-pay', '10th',\n",
    "                '11th', '12th', '1st-4th', '5th-6th', '7th-8th', '9th', 'Assoc-acdm',\n",
    "                'Assoc-voc', 'Bachelors', 'Doctorate', 'HS-grad', 'Masters',\n",
    "                'Preschool', 'Prof-school', 'Some-college', 'Divorced',\n",
    "                'Married-AF-spouse', 'Married-civ-spouse', 'Married-spouse-absent',\n",
    "                'Never-married', 'Separated', 'Widowed', 'Adm-clerical', 'Armed-Forces',\n",
    "                'Craft-repair', 'Exec-managerial', 'Farming-fishing',\n",
    "                'Handlers-cleaners', 'Machine-op-inspct', 'Other-service',\n",
    "                'Priv-house-serv', 'Prof-specialty', 'Protective-serv', 'Sales',\n",
    "                'Tech-support', 'Transport-moving', 'Female', 'Male',\n",
    "                'Amer-Indian-Eskimo', 'Asian-Pac-Islander', 'Black', 'Other', 'White',\n",
    "                'Husband', 'Not-in-family', 'Other-relative', 'Own-child', 'Unmarried','Wife','UnitedStates']]\n",
    "y=income_total['Income']"
   ]
  },
  {
   "cell_type": "code",
   "execution_count": 609,
   "metadata": {},
   "outputs": [],
   "source": [
    "x=np.array(x,dtype=int)\n",
    "y=np.array(y,dtype=int)"
   ]
  },
  {
   "cell_type": "code",
   "execution_count": 610,
   "metadata": {},
   "outputs": [],
   "source": [
    "X_train, X_test, y_train, y_test = train_test_split(x, y, random_state=1)"
   ]
  },
  {
   "cell_type": "code",
   "execution_count": 611,
   "metadata": {},
   "outputs": [],
   "source": [
    "X_test= pd.DataFrame(X_test)"
   ]
  },
  {
   "cell_type": "code",
   "execution_count": 613,
   "metadata": {},
   "outputs": [],
   "source": [
    "# Initialize\n",
    "linreg5 = LinearRegression(fit_intercept=False)"
   ]
  },
  {
   "cell_type": "code",
   "execution_count": 614,
   "metadata": {},
   "outputs": [
    {
     "data": {
      "text/plain": [
       "LinearRegression(copy_X=True, fit_intercept=False, n_jobs=1, normalize=False)"
      ]
     },
     "execution_count": 614,
     "metadata": {},
     "output_type": "execute_result"
    }
   ],
   "source": [
    "# Fit\n",
    "linreg5.fit(X_test, y_test)"
   ]
  },
  {
   "cell_type": "code",
   "execution_count": 615,
   "metadata": {
    "scrolled": true
   },
   "outputs": [
    {
     "data": {
      "text/plain": [
       "array([ 2.37259560e+02, -6.10425629e-04,  2.93530220e+03,  1.42217737e+02,\n",
       "        6.44631657e+03,  2.02411981e+03,  1.07626277e+04,  2.34298881e+03,\n",
       "        4.77237413e+03, -4.35654665e+02, -1.15609914e+03, -1.01278027e+04,\n",
       "       -1.74452010e+03, -4.65940535e+03, -4.95369837e+03,  5.37098681e+03,\n",
       "        5.41558294e+03,  1.46874236e+03, -2.15180928e+03, -8.89510072e+03,\n",
       "       -5.92460224e+03, -3.64640604e+03,  1.03657478e+04, -6.56026547e+03,\n",
       "        2.94509487e+03,  1.06045123e+04,  1.27308075e+04, -6.67492160e+03,\n",
       "       -1.48205082e+03,  4.13660316e+03,  4.46100722e+03,  1.62952196e+03,\n",
       "       -2.79275635e+03, -3.44515706e+02, -1.91706396e+03,  1.29642723e+03,\n",
       "       -9.68458741e+03, -6.30638035e+02,  6.74506788e+03, -4.61781092e+03,\n",
       "       -2.21101137e+03, -1.70956651e+03,  2.00251732e+02,  3.75387119e+02,\n",
       "        4.20335186e+03,  2.98336097e+03,  2.81422418e+03,  4.61491843e+03,\n",
       "       -5.13132348e+02, -6.61088372e+03,  1.03016292e+04, -2.03681172e+02,\n",
       "        7.86764987e+02,  1.82252756e+03, -6.42974271e+02,  1.92810840e+03,\n",
       "        3.56177527e+03, -2.16994330e+03, -1.32292463e+03, -1.71296790e+03,\n",
       "       -1.47133885e+03,  6.80614494e+03,  1.49617359e+03])"
      ]
     },
     "execution_count": 615,
     "metadata": {},
     "output_type": "execute_result"
    }
   ],
   "source": [
    "linreg5.coef_"
   ]
  },
  {
   "cell_type": "code",
   "execution_count": 618,
   "metadata": {},
   "outputs": [],
   "source": [
    "y_pred5= linreg5.predict(X_test)"
   ]
  },
  {
   "cell_type": "code",
   "execution_count": 619,
   "metadata": {},
   "outputs": [
    {
     "name": "stdout",
     "output_type": "stream",
     "text": [
      "MAE: 12982.942369010401\n",
      "MSE: 303729266.851043\n",
      "RMSE: 17427.830239333955\n"
     ]
    }
   ],
   "source": [
    "from sklearn import metrics\n",
    "import numpy as np\n",
    "print('MAE:', metrics.mean_absolute_error(y_test, y_pred5))\n",
    "print('MSE:', metrics.mean_squared_error(y_test, y_pred5))\n",
    "print('RMSE:', np.sqrt(metrics.mean_squared_error(y_test, y_pred5)))"
   ]
  },
  {
   "cell_type": "markdown",
   "metadata": {},
   "source": [
    "Como podemos observar, el error se diminuyó considerablemente, pues ahora la diferencia de mínimos cuadrados al cuadrado son USD 17.427. Lo que podríamos continuar haciendo, sin embargo no se realizará en este ejercicio es probar con un modelo de selección de variables para entender cuáles son realmente las que influyen en mayor proporción en el resultado del modelo."
   ]
  }
 ],
 "metadata": {
  "kernelspec": {
   "display_name": "Python 3",
   "language": "python",
   "name": "python3"
  },
  "language_info": {
   "codemirror_mode": {
    "name": "ipython",
    "version": 3
   },
   "file_extension": ".py",
   "mimetype": "text/x-python",
   "name": "python",
   "nbconvert_exporter": "python",
   "pygments_lexer": "ipython3",
   "version": "3.6.5"
  }
 },
 "nbformat": 4,
 "nbformat_minor": 2
}
